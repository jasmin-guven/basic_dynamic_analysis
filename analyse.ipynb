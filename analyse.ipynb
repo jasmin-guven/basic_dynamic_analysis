{
 "cells": [
  {
   "cell_type": "markdown",
   "id": "e929ed27-592a-4d9f-8128-7b1983e779b0",
   "metadata": {},
   "source": [
    "# Analysing dynamics structures "
   ]
  },
  {
   "cell_type": "markdown",
   "id": "23166a2a-02b6-45d4-9edc-c00aa7f774bf",
   "metadata": {
    "tags": []
   },
   "source": [
    "## Intro to dynamics files"
   ]
  },
  {
   "cell_type": "markdown",
   "id": "7a18a398-92be-4fac-8e22-5596d8f256d7",
   "metadata": {},
   "source": [
    "As an example, I've renamed the `2ZFF__1__P_Dynamics_10` and `2ZFF__1__P_Dynamics_11` files as `ligand_10` and `ligand_11`, respectively.\n",
    "\n",
    "The `data/` folder contains the following files:\n",
    "\n",
    "* `.dcd` files: trajectory file from dynamics\n",
    "* `.pdb` files: protein databank files, which tells us information about the system\n",
    "* `.prmtop` files: topology files, which tells us information about the force field on the system\n",
    "\n",
    "You can easily view `.pdb` and `.prmtop` files, but `.dcd` files are binary files and aren't in human-friendly format. \n",
    "\n",
    "If you look at the `ligand_11.pdb` file, you can see all the atoms in the system. Below, we can look at all the ligand atoms in the system (they are identified by `HETATM` and `MOL` in the file):"
   ]
  },
  {
   "cell_type": "code",
   "execution_count": 1,
   "id": "7c4b0b8c-5a3d-4674-b59c-adedf803e5a1",
   "metadata": {},
   "outputs": [
    {
     "name": "stdout",
     "output_type": "stream",
     "text": [
      "HETATM 4157  N   MOL I   1      18.156 -12.898  21.795  1.00  0.00           N  \n",
      "\n",
      "HETATM 4158  C   MOL I   1      17.855 -11.611  21.148  1.00  0.00           C  \n",
      "\n",
      "HETATM 4159  C1  MOL I   1      17.314 -13.419  22.713  1.00  0.00           C  \n",
      "\n",
      "HETATM 4160  O   MOL I   1      16.254 -12.903  23.041  1.00  0.00           O  \n",
      "\n",
      "HETATM 4161  C2  MOL I   1      16.500 -11.602  20.474  1.00  0.00           C  \n",
      "\n",
      "HETATM 4162  O1  MOL I   1      16.133 -12.509  19.741  1.00  0.00           O  \n",
      "\n",
      "HETATM 4163  C3  MOL I   1      18.957 -11.504  20.085  1.00  0.00           C  \n",
      "\n",
      "HETATM 4164  C4  MOL I   1      17.736 -14.740  23.326  1.00  0.00           C  \n",
      "\n",
      "HETATM 4165  N1  MOL I   1      15.771 -10.517  20.786  1.00  0.00           N  \n",
      "\n",
      "HETATM 4166  C5  MOL I   1      20.109 -12.342  20.644  1.00  0.00           C  \n",
      "\n",
      "HETATM 4167  N2  MOL I   1      16.496 -15.578  23.446  1.00  0.00           N1+\n",
      "\n",
      "HETATM 4168  C6  MOL I   1      18.305 -14.517  24.742  1.00  0.00           C  \n",
      "\n",
      "HETATM 4169  C7  MOL I   1      14.394 -10.394  20.287  1.00  0.00           C  \n",
      "\n",
      "HETATM 4170  C8  MOL I   1      19.419 -13.518  21.351  1.00  0.00           C  \n",
      "\n",
      "HETATM 4171  C9  MOL I   1      19.735 -14.006  24.798  1.00  0.00           C  \n",
      "\n",
      "HETATM 4172  C10 MOL I   1      13.426 -10.280  21.454  1.00  0.00           C  \n",
      "\n",
      "HETATM 4173  C11 MOL I   1      20.778 -14.828  24.429  1.00  0.00           C  \n",
      "\n",
      "HETATM 4174  C12 MOL I   1      12.579 -11.316  21.796  1.00  0.00           C  \n",
      "\n",
      "HETATM 4175  C13 MOL I   1      22.074 -14.368  24.480  1.00  0.00           C  \n",
      "\n",
      "HETATM 4176  C14 MOL I   1      11.715 -11.182  22.862  1.00  0.00           C  \n",
      "\n",
      "HETATM 4177  C15 MOL I   1      22.332 -13.083  24.901  1.00  0.00           C  \n",
      "\n",
      "HETATM 4178  C16 MOL I   1      11.693 -10.016  23.590  1.00  0.00           C  \n",
      "\n",
      "HETATM 4179  C17 MOL I   1      21.293 -12.260  25.270  1.00  0.00           C  \n",
      "\n",
      "HETATM 4180  C18 MOL I   1      12.536  -8.980  23.253  1.00  0.00           C  \n",
      "\n",
      "HETATM 4181  C19 MOL I   1      19.998 -12.720  25.217  1.00  0.00           C  \n",
      "\n",
      "HETATM 4182  C20 MOL I   1      13.398  -9.114  22.187  1.00  0.00           C  \n",
      "\n",
      "HETATM 4183  F   MOL I   1      12.589 -12.462  21.100  1.00  0.00           F  \n",
      "\n",
      "HETATM 4184 CL   MOL I   1      12.516  -7.505  24.173  1.00  0.00          CL  \n",
      "\n",
      "HETATM 4185  H   MOL I   1      17.829 -10.858  21.806  1.00  0.00           H  \n",
      "\n",
      "HETATM 4186  H1  MOL I   1      18.436 -15.176  22.760  1.00  0.00           H  \n",
      "\n",
      "HETATM 4187  H2  MOL I   1      19.237 -10.552  19.959  1.00  0.00           H  \n",
      "\n",
      "HETATM 4188  H3  MOL I   1      18.653 -11.825  19.188  1.00  0.00           H  \n",
      "\n",
      "HETATM 4189  H4  MOL I   1      16.100  -9.885  21.301  1.00  0.00           H  \n",
      "\n",
      "HETATM 4190  H5  MOL I   1      20.655 -11.809  21.290  1.00  0.00           H  \n",
      "\n",
      "HETATM 4191  H6  MOL I   1      20.740 -12.645  19.931  1.00  0.00           H  \n",
      "\n",
      "HETATM 4192  H9  MOL I   1      16.269 -15.978  22.660  1.00  0.00           H  \n",
      "\n",
      "HETATM 4193  H8  MOL I   1      15.778 -15.082  23.708  1.00  0.00           H  \n",
      "\n",
      "HETATM 4194  H7  MOL I   1      16.595 -16.240  24.063  1.00  0.00           H  \n",
      "\n",
      "HETATM 4195  H10 MOL I   1      18.266 -15.388  25.232  1.00  0.00           H  \n",
      "\n",
      "HETATM 4196  H11 MOL I   1      17.742 -13.800  25.155  1.00  0.00           H  \n",
      "\n",
      "HETATM 4197  H12 MOL I   1      14.165 -11.201  19.742  1.00  0.00           H  \n",
      "\n",
      "HETATM 4198  H13 MOL I   1      14.323  -9.573  19.721  1.00  0.00           H  \n",
      "\n",
      "HETATM 4199  H14 MOL I   1      19.253 -14.277  20.722  1.00  0.00           H  \n",
      "\n",
      "HETATM 4200  H15 MOL I   1      19.958 -13.918  22.091  1.00  0.00           H  \n",
      "\n",
      "HETATM 4201  H16 MOL I   1      20.593 -15.761  24.123  1.00  0.00           H  \n",
      "\n",
      "HETATM 4202  H17 MOL I   1      22.828 -14.967  24.211  1.00  0.00           H  \n",
      "\n",
      "HETATM 4203  H18 MOL I   1      11.103 -11.934  23.106  1.00  0.00           H  \n",
      "\n",
      "HETATM 4204  H19 MOL I   1      23.274 -12.749  24.939  1.00  0.00           H  \n",
      "\n",
      "HETATM 4205  H20 MOL I   1      11.065  -9.919  24.363  1.00  0.00           H  \n",
      "\n",
      "HETATM 4206  H21 MOL I   1      21.480 -11.326  25.576  1.00  0.00           H  \n",
      "\n",
      "HETATM 4207  H22 MOL I   1      19.244 -12.120  25.484  1.00  0.00           H  \n",
      "\n",
      "HETATM 4208  H23 MOL I   1      14.008  -8.360  21.944  1.00  0.00           H  \n",
      "\n"
     ]
    }
   ],
   "source": [
    "res_counter = 0\n",
    "with open(\"data/ligand_11.pdb\") as file:\n",
    "    lines = file.readlines()\n",
    "    for line in lines:\n",
    "        if \"HETATM\" in line and \"MOL\" in line:\n",
    "            print(line)\n",
    "            res_counter += 1"
   ]
  },
  {
   "cell_type": "markdown",
   "id": "1a08c849-93f9-45ee-bd81-95617ba04f02",
   "metadata": {},
   "source": [
    "We can count how many ligand atoms there are:"
   ]
  },
  {
   "cell_type": "code",
   "execution_count": 2,
   "id": "029e1634-0170-4874-85f4-ba410d032bb7",
   "metadata": {},
   "outputs": [
    {
     "name": "stdout",
     "output_type": "stream",
     "text": [
      "The system contains 52 ligand atoms.\n"
     ]
    }
   ],
   "source": [
    "print(f\"The system contains {res_counter} ligand atoms.\")"
   ]
  },
  {
   "cell_type": "markdown",
   "id": "0bb967cd-1b9e-4372-98d2-9cdd85f4d515",
   "metadata": {
    "tags": []
   },
   "source": [
    "## Imports"
   ]
  },
  {
   "cell_type": "markdown",
   "id": "865328cc-5afe-4029-9fd7-dd90426b7801",
   "metadata": {},
   "source": [
    "Run the below cell to get all required modules:"
   ]
  },
  {
   "cell_type": "code",
   "execution_count": 63,
   "id": "be298e68-fabf-4c4b-8f2f-be237e093dd8",
   "metadata": {},
   "outputs": [],
   "source": [
    "import numpy as np\n",
    "import MDAnalysis as mda\n",
    "import MDAnalysis.analysis\n",
    "import MDAnalysis.analysis\n",
    "import matplotlib.pyplot as plt"
   ]
  },
  {
   "cell_type": "markdown",
   "id": "c401f595-f52b-4d47-987a-0c7b38915751",
   "metadata": {
    "tags": []
   },
   "source": [
    "# 1. RMSD for protein"
   ]
  },
  {
   "cell_type": "markdown",
   "id": "2d7308d9-9198-4197-b721-f38ce8d4beed",
   "metadata": {
    "tags": []
   },
   "source": [
    "## Read in `.dcd` files"
   ]
  },
  {
   "cell_type": "markdown",
   "id": "aa60a9d7-07ac-40e3-a35f-b9fb690accd2",
   "metadata": {},
   "source": [
    "First, let's define the path to all of the data files:"
   ]
  },
  {
   "cell_type": "code",
   "execution_count": 4,
   "id": "d1b3bc9b-9a85-45bd-8694-13969bb37d99",
   "metadata": {},
   "outputs": [],
   "source": [
    "data_path = \"data/\""
   ]
  },
  {
   "cell_type": "markdown",
   "id": "5322c012-e3cb-4839-899e-8504cc705a28",
   "metadata": {},
   "source": [
    "**Note: When analysing files from another folder, you will need to specify the path to these files.**"
   ]
  },
  {
   "cell_type": "markdown",
   "id": "70ca9962-b16c-4e94-8287-b88be1c1c581",
   "metadata": {},
   "source": [
    "Then, we can load in the trajectory `.dcd` file so we can get a list of all frames in the trajectory:"
   ]
  },
  {
   "cell_type": "code",
   "execution_count": 5,
   "id": "69418fd4-e176-4c74-8270-25e65fe7f574",
   "metadata": {},
   "outputs": [],
   "source": [
    "protein_frames = []\n",
    "with mda.lib.formats.libdcd.DCDFile(data_path+\"ligand_10.dcd\") as trajectory_file:\n",
    "    for frame in trajectory_file:\n",
    "        protein_frames.append(frame)"
   ]
  },
  {
   "cell_type": "markdown",
   "id": "0f86e334-ec1f-4f08-aadd-e292fe90676a",
   "metadata": {},
   "source": [
    "## Create required structures"
   ]
  },
  {
   "cell_type": "markdown",
   "id": "2c9dfc39-f566-4493-9a1b-17fc7e1211af",
   "metadata": {},
   "source": [
    "Here we first define the first frame of the trajectory from the above list.\n",
    "\n",
    "Then, we create an MDAnalysis Universe object and a reference Universe so we can calculate the RMSD of the protein.\n",
    "\n",
    "To create the universes, we need a topology file (`.prmtop`) and a trajectory file (`.dcd`):"
   ]
  },
  {
   "cell_type": "code",
   "execution_count": 6,
   "id": "a69efc57-fbb3-4bef-8e64-c9aaf656ecb3",
   "metadata": {},
   "outputs": [],
   "source": [
    "protein_first_frame = protein_frames[0].xyz\n",
    "universe = mda.Universe(data_path+\"ligand_10.prmtop\", data_path+\"ligand_10.dcd\")\n",
    "reference_universe = mda.Universe(data_path+\"ligand_10.prmtop\", protein_first_frame)"
   ]
  },
  {
   "cell_type": "markdown",
   "id": "9ca5edd0-bb45-4138-9ba4-4b4786ab9acc",
   "metadata": {},
   "source": [
    "We need to select only the protein, as the structure also contains waters and the ligand, that we don't need for the protein RMSD calculation:"
   ]
  },
  {
   "cell_type": "code",
   "execution_count": 7,
   "id": "63cc02ec-b5d6-480e-aa95-870ace362ba5",
   "metadata": {},
   "outputs": [],
   "source": [
    "protein_structure = universe.select_atoms(\"protein\")\n",
    "reference_protein_structure = reference_universe.select_atoms(\"protein\")"
   ]
  },
  {
   "cell_type": "markdown",
   "id": "14b2882b-0aac-43b8-8569-ea4e56e5f733",
   "metadata": {},
   "source": [
    "## RMSD calculation"
   ]
  },
  {
   "cell_type": "markdown",
   "id": "3a2d05f5-6f7f-4511-ae1c-a97d423f0313",
   "metadata": {},
   "source": [
    "Finally, we can calculate the RMSD with respect to the protein backbone:"
   ]
  },
  {
   "cell_type": "code",
   "execution_count": 8,
   "id": "71a9f579-858b-4b3a-beb6-d4f270b35339",
   "metadata": {},
   "outputs": [
    {
     "data": {
      "text/plain": [
       "<MDAnalysis.analysis.rms.RMSD at 0x145688040>"
      ]
     },
     "execution_count": 8,
     "metadata": {},
     "output_type": "execute_result"
    }
   ],
   "source": [
    "rmsd_protein = mda.analysis.rms.RMSD(protein_structure, reference_protein_structure, select=\"backbone\")\n",
    "rmsd_protein.run()"
   ]
  },
  {
   "cell_type": "markdown",
   "id": "523ad6bc-7f52-4389-911c-e7374221e31b",
   "metadata": {},
   "source": [
    "Now we can look at the RMSD result. \n",
    "\n",
    "We transpose the result, as this makes it easier for plotting:"
   ]
  },
  {
   "cell_type": "code",
   "execution_count": 9,
   "id": "6fb6d37a-c80e-4085-871e-93b6bfd9d980",
   "metadata": {},
   "outputs": [
    {
     "name": "stdout",
     "output_type": "stream",
     "text": [
      "[[0.00000000e+00 1.00000000e+00 2.00000000e+00 ... 4.99700000e+03\n",
      "  4.99800000e+03 4.99900000e+03]\n",
      " [0.00000000e+00 4.88882123e-05 9.77764246e-05 ... 2.44294397e-01\n",
      "  2.44343285e-01 2.44392173e-01]\n",
      " [7.49928569e-07 5.84204231e-01 6.99914328e-01 ... 2.45271977e+00\n",
      "  2.42505997e+00 2.44376368e+00]]\n"
     ]
    }
   ],
   "source": [
    "protein_rmsd_result = rmsd_protein.results.rmsd.T\n",
    "print(protein_rmsd_result)"
   ]
  },
  {
   "cell_type": "markdown",
   "id": "ad69ab53-f85f-4cd5-9c69-f6f3882a8242",
   "metadata": {},
   "source": [
    "In the results list of arrays, the first array is the frame number, second array is the time in picoseconds and the third array is the RMSD result for that frame and time.\n",
    "\n",
    "Here we define two new variables `time` i.e. the second array in the `rmsd_result` list, and `rmsd_values`, i.e. the third array:\n",
    "\n",
    "**Note: Remember that indexing in Python starts from 0, so the first array is at index 0, second at index 1 and so on.**"
   ]
  },
  {
   "cell_type": "code",
   "execution_count": 10,
   "id": "d997c883-dd5a-4e60-8739-eb6b781a0a27",
   "metadata": {},
   "outputs": [],
   "source": [
    "protein_time = protein_rmsd_result[1]\n",
    "protein_rmsd_values = protein_rmsd_result[2]"
   ]
  },
  {
   "cell_type": "markdown",
   "id": "c2fd184d-03f5-47d1-9a7c-39a162d6d844",
   "metadata": {},
   "source": [
    "## Plot RMDS for protein"
   ]
  },
  {
   "cell_type": "code",
   "execution_count": 11,
   "id": "ffb62917-0717-490b-91b2-2906702107bd",
   "metadata": {},
   "outputs": [
    {
     "data": {
      "text/plain": [
       "Text(0, 0.5, 'RMSD ($\\\\AA$)')"
      ]
     },
     "execution_count": 11,
     "metadata": {},
     "output_type": "execute_result"
    },
    {
     "data": {
      "image/png": "[encoded data removed]",
      "text/plain": [
       "<Figure size 576x576 with 1 Axes>"
      ]
     },
     "metadata": {
      "needs_background": "light"
     },
     "output_type": "display_data"
    }
   ],
   "source": [
    "fig = plt.figure(figsize=(8, 8))\n",
    "ax = fig.add_subplot(111)\n",
    "ax.plot(protein_time, protein_rmsd_values, \"k-\")\n",
    "ax.set_xlabel(\"protein_time (ps)\", fontsize = 14)\n",
    "ax.set_ylabel(r\"RMSD ($\\AA$)\", fontsize = 14)"
   ]
  },
  {
   "cell_type": "markdown",
   "id": "869d682e-a3f1-4241-8840-69f7a2f983c6",
   "metadata": {},
   "source": [
    "Finally, we can save the plot as a pdf file:"
   ]
  },
  {
   "cell_type": "code",
   "execution_count": 12,
   "id": "d1850803-16b7-4c9b-8f57-85cf475b70fb",
   "metadata": {},
   "outputs": [
    {
     "data": {
      "text/plain": [
       "<Figure size 432x288 with 0 Axes>"
      ]
     },
     "metadata": {},
     "output_type": "display_data"
    }
   ],
   "source": [
    "plt.savefig(\"plots/rmsd_protein.pdf\")"
   ]
  },
  {
   "cell_type": "markdown",
   "id": "ebd60493-f272-4a43-a477-a57a3cd5ba6b",
   "metadata": {},
   "source": [
    "# 2. RMSD for ligand"
   ]
  },
  {
   "cell_type": "markdown",
   "id": "cb0e551e-3b43-4355-ba57-b792f073db0b",
   "metadata": {},
   "source": [
    "For this example, let's use the other trajectory file `ligand_11.dcd`. "
   ]
  },
  {
   "cell_type": "markdown",
   "id": "dc8729c0-f278-4fbc-9641-a10bb55fc99d",
   "metadata": {
    "tags": []
   },
   "source": [
    "## Read in `.dcd` files"
   ]
  },
  {
   "cell_type": "markdown",
   "id": "f26e3ea7-b666-4d17-92e4-1141c6e5adaa",
   "metadata": {},
   "source": [
    "We can load in the trajectory `.dcd` file so we can get a list of all frames in the trajectory:"
   ]
  },
  {
   "cell_type": "code",
   "execution_count": 13,
   "id": "94637245-ddc0-4422-b20f-e14e5fc64722",
   "metadata": {},
   "outputs": [],
   "source": [
    "ligand_frames = []\n",
    "with mda.lib.formats.libdcd.DCDFile(data_path+\"ligand_11.dcd\") as trajectory_file:\n",
    "    for frame in trajectory_file:\n",
    "        ligand_frames.append(frame)"
   ]
  },
  {
   "cell_type": "markdown",
   "id": "651db702-cc1c-4b76-88b6-993e83cd7083",
   "metadata": {
    "tags": []
   },
   "source": [
    "## Create required structures"
   ]
  },
  {
   "cell_type": "markdown",
   "id": "5fc5f906-2c9d-4867-bb42-c5352940b8b9",
   "metadata": {},
   "source": [
    "Here we first define the first frame of the trajectory from the above list.\n",
    "\n",
    "Then, we create an MDAnalysis Universe object and a reference Universe so we can calculate the RMSD of the protein.\n",
    "\n",
    "To create the universes, we need a topology file (`.prmtop`) and a trajectory file (`.dcd`):"
   ]
  },
  {
   "cell_type": "code",
   "execution_count": 14,
   "id": "95eaa2ea-724e-43fc-b7d9-3ad9fae0b91c",
   "metadata": {},
   "outputs": [],
   "source": [
    "ligand_first_frame = ligand_frames[0].xyz\n",
    "universe = mda.Universe(data_path+\"ligand_11.prmtop\", data_path+\"ligand_11.dcd\")\n",
    "reference_universe = mda.Universe(data_path+\"ligand_11.prmtop\", ligand_first_frame)"
   ]
  },
  {
   "cell_type": "markdown",
   "id": "86278937-04c1-4f79-a111-acc28c9cf8d3",
   "metadata": {},
   "source": [
    "We need to select only the ligand, as the structure also contains waters and the protein, that we don't need for the ligand RMSD calculation.\n",
    "\n",
    "We can do the selection based on the residue name (`\"resname\"`) as we know the ligand atoms are identified by the residue name `MOL`."
   ]
  },
  {
   "cell_type": "code",
   "execution_count": 15,
   "id": "eaa245c7-b461-474b-bc86-f99afc379dca",
   "metadata": {},
   "outputs": [],
   "source": [
    "ligand_structure = universe.select_atoms(\"resname MOL\")\n",
    "reference_ligand_structure = reference_universe.select_atoms(\"resname MOL\")"
   ]
  },
  {
   "cell_type": "markdown",
   "id": "6b803226-b077-40f8-ac63-009fccf288c9",
   "metadata": {},
   "source": [
    "Let's check we have selected the correct amount of ligand atoms:"
   ]
  },
  {
   "cell_type": "code",
   "execution_count": 16,
   "id": "c15f3a7c-d9cd-4474-9716-f57739106294",
   "metadata": {},
   "outputs": [
    {
     "data": {
      "text/plain": [
       "<AtomGroup with 52 atoms>"
      ]
     },
     "execution_count": 16,
     "metadata": {},
     "output_type": "execute_result"
    }
   ],
   "source": [
    "ligand_structure"
   ]
  },
  {
   "cell_type": "code",
   "execution_count": 17,
   "id": "6125785b-2b16-4fbe-b881-ac104bc3b02b",
   "metadata": {},
   "outputs": [
    {
     "data": {
      "text/plain": [
       "<AtomGroup with 52 atoms>"
      ]
     },
     "execution_count": 17,
     "metadata": {},
     "output_type": "execute_result"
    }
   ],
   "source": [
    "reference_ligand_structure"
   ]
  },
  {
   "cell_type": "markdown",
   "id": "0490e0ff-44ae-4859-bb02-ace6c05ef4ca",
   "metadata": {},
   "source": [
    "This is the same as:"
   ]
  },
  {
   "cell_type": "code",
   "execution_count": 18,
   "id": "bd8b5b50-ffc6-4e16-bb34-a71f28cc8788",
   "metadata": {},
   "outputs": [
    {
     "name": "stdout",
     "output_type": "stream",
     "text": [
      "The system contains 52 ligand atoms.\n"
     ]
    }
   ],
   "source": [
    "print(f\"The system contains {res_counter} ligand atoms.\")"
   ]
  },
  {
   "cell_type": "markdown",
   "id": "dfd6745e-7f09-4609-8007-305804ad8505",
   "metadata": {},
   "source": [
    "## RMSD calculation"
   ]
  },
  {
   "cell_type": "markdown",
   "id": "766ed5d8-dafb-461f-9390-621446037b47",
   "metadata": {},
   "source": [
    "Let's do the RMSD calculation on the ligand. \n",
    "\n",
    "Note that we don't select a backbone, as the ligand does not have one:"
   ]
  },
  {
   "cell_type": "code",
   "execution_count": 19,
   "id": "f1b367e9-bb86-4b7e-bec8-415d98648b78",
   "metadata": {},
   "outputs": [
    {
     "data": {
      "text/plain": [
       "<MDAnalysis.analysis.rms.RMSD at 0x146f97250>"
      ]
     },
     "execution_count": 19,
     "metadata": {},
     "output_type": "execute_result"
    }
   ],
   "source": [
    "rmsd_ligand = mda.analysis.rms.RMSD(ligand_structure, reference_ligand_structure)\n",
    "rmsd_ligand.run()"
   ]
  },
  {
   "cell_type": "markdown",
   "id": "e256e8bf-b629-4f66-93ee-9867205a2fc8",
   "metadata": {},
   "source": [
    "Now we can look at the RMSD result. \n",
    "\n",
    "We transpose the result, as this makes it easier for plotting:"
   ]
  },
  {
   "cell_type": "code",
   "execution_count": 20,
   "id": "cf012203-de6f-4140-8ef5-4a02dffdd523",
   "metadata": {},
   "outputs": [
    {
     "name": "stdout",
     "output_type": "stream",
     "text": [
      "[[0.00000000e+00 1.00000000e+00 2.00000000e+00 ... 4.99700000e+03\n",
      "  4.99800000e+03 4.99900000e+03]\n",
      " [0.00000000e+00 4.88882123e-05 9.77764246e-05 ... 2.44294397e-01\n",
      "  2.44343285e-01 2.44392173e-01]\n",
      " [0.00000000e+00 6.08122646e-01 5.32160464e-01 ... 2.74413300e+00\n",
      "  2.47750029e+00 2.42604267e+00]]\n"
     ]
    }
   ],
   "source": [
    "ligand_rmsd_result = rmsd_ligand.results.rmsd.T\n",
    "print(ligand_rmsd_result)"
   ]
  },
  {
   "cell_type": "markdown",
   "id": "639a30c1-644e-4538-8f2c-cfbca47a276e",
   "metadata": {},
   "source": [
    "In the results list of arrays, the first array is the frame number, second array is the time in picoseconds and the third array is the RMSD result for that frame and time.\n",
    "\n",
    "Here we define two new variables `time` i.e. the second array in the `rmsd_result` list, and `rmsd_values`, i.e. the third array:\n",
    "\n",
    "**Note: Remember that indexing in Python starts from 0, so the first array is at index 0, second at index 1 and so on.**"
   ]
  },
  {
   "cell_type": "code",
   "execution_count": 21,
   "id": "df466d66-ae07-4292-a9ee-fb7102471345",
   "metadata": {},
   "outputs": [],
   "source": [
    "ligand_time = ligand_rmsd_result[1]\n",
    "ligand_rmsd_values = ligand_rmsd_result[2]"
   ]
  },
  {
   "cell_type": "markdown",
   "id": "08af7f29-e028-42bb-b849-005afe9baeb1",
   "metadata": {
    "tags": []
   },
   "source": [
    "## Plot RMDS for ligand"
   ]
  },
  {
   "cell_type": "code",
   "execution_count": 22,
   "id": "4919a09e-c82e-46be-a911-0548e9f06e38",
   "metadata": {},
   "outputs": [
    {
     "data": {
      "text/plain": [
       "Text(0, 0.5, 'RMSD ($\\\\AA$)')"
      ]
     },
     "execution_count": 22,
     "metadata": {},
     "output_type": "execute_result"
    },
    {
     "data": {
      "image/png": "[encoded data removed]",
      "text/plain": [
       "<Figure size 576x576 with 1 Axes>"
      ]
     },
     "metadata": {
      "needs_background": "light"
     },
     "output_type": "display_data"
    }
   ],
   "source": [
    "fig = plt.figure(figsize=(8, 8))\n",
    "ax = fig.add_subplot(111)\n",
    "ax.plot(ligand_time, ligand_rmsd_values, \"k-\")\n",
    "ax.set_xlabel(\"ligand_time (ps)\", fontsize = 14)\n",
    "ax.set_ylabel(r\"RMSD ($\\AA$)\", fontsize = 14)"
   ]
  },
  {
   "cell_type": "markdown",
   "id": "e5237546-0883-4d72-a8a8-3b508ad76f1d",
   "metadata": {},
   "source": [
    "Finally, let's save this:"
   ]
  },
  {
   "cell_type": "code",
   "execution_count": 23,
   "id": "43f38089-33f7-4e58-89e3-d0d144275d45",
   "metadata": {},
   "outputs": [
    {
     "data": {
      "text/plain": [
       "<Figure size 432x288 with 0 Axes>"
      ]
     },
     "metadata": {},
     "output_type": "display_data"
    }
   ],
   "source": [
    "plt.savefig(\"plots/rmsd_ligand.pdf\")"
   ]
  },
  {
   "cell_type": "markdown",
   "id": "35569ccd-73f1-4e6b-a997-e4f195566f7e",
   "metadata": {},
   "source": [
    "# 3. Mean and standard deviation of the RMSD of the ligand"
   ]
  },
  {
   "cell_type": "markdown",
   "id": "726d7905-6d5c-4f6e-a3bc-8d72df7f6245",
   "metadata": {},
   "source": [
    "Calculating the mean and standard deviation is really easy in Python:"
   ]
  },
  {
   "cell_type": "code",
   "execution_count": 25,
   "id": "5b637e14-7c4a-4d6e-b462-75e1fe713db7",
   "metadata": {},
   "outputs": [],
   "source": [
    "mean_rmsd_ligand = np.mean(ligand_rmsd_values)\n",
    "standard_deviation_rmsd_ligand = np.std(ligand_rmsd_values)"
   ]
  },
  {
   "cell_type": "code",
   "execution_count": 36,
   "id": "21400595-6f19-4d85-be3d-b973d948dc12",
   "metadata": {},
   "outputs": [
    {
     "name": "stdout",
     "output_type": "stream",
     "text": [
      "Average RMSD of ligand: (2.434 ± 0.431) Å\n"
     ]
    }
   ],
   "source": [
    "print(f\"Average RMSD of ligand: ({mean_rmsd_ligand:.3f} \\u00B1 {standard_deviation_rmsd_ligand:.3f}) \\u212B\")\n"
   ]
  },
  {
   "cell_type": "markdown",
   "id": "b076b63f-c832-40b4-b31f-13c77dee3bb5",
   "metadata": {},
   "source": [
    "Let's unpack the above print statement a bit:\n",
    "* `{mean_rmsd_ligand:.3f}` means we want to print out our variable `mean_rmsd_ligand`, where `:.3f` specifies how many numbers after the comma we want to show\n",
    "* `\\u00B1` is the unicode symbol for the plus-or-minus sign\n",
    "* `{standard_deviation_rmsd_ligand:.3f}` print out `standard_deviation_rmsd_ligand` with `:.3f`\n",
    "* `\\u212B` unicode for the Ångström symbol Å"
   ]
  },
  {
   "cell_type": "markdown",
   "id": "1f6d419a-bde3-4e51-9d16-d30c54493023",
   "metadata": {},
   "source": [
    "# 4. Distance between protein centre of mass and ligand centre of mass"
   ]
  },
  {
   "cell_type": "markdown",
   "id": "2c9f18e4-e15f-49e0-a2eb-254ac0971434",
   "metadata": {},
   "source": [
    "We can calculate the centres of mass (CoM) very easily from the `protein_structure` and `ligand_structure` using the MDAnalysis function `.center_of_mass()`."
   ]
  },
  {
   "cell_type": "code",
   "execution_count": 66,
   "id": "50162915-5eb0-408b-adc2-0d628490b11d",
   "metadata": {},
   "outputs": [],
   "source": [
    "protein_centre_of_mass = protein_structure.center_of_mass()\n",
    "ligand_centre_of_mass = ligand_structure.center_of_mass()"
   ]
  },
  {
   "cell_type": "markdown",
   "id": "145636bc-580b-4e57-96ad-9c8fe74d3288",
   "metadata": {},
   "source": [
    "The out put of these is an array containing the `xyz` coordinates of each CoM."
   ]
  },
  {
   "cell_type": "code",
   "execution_count": 69,
   "id": "0877ee83-a9ce-4acf-9ce7-95b15fc4db9d",
   "metadata": {},
   "outputs": [
    {
     "name": "stdout",
     "output_type": "stream",
     "text": [
      "Protein CoM: x: 35.91, y: 50.81, z: 29.57\n",
      "Ligand CoM: x: 39.56, y: 37.18, z: 30.62\n"
     ]
    }
   ],
   "source": [
    "print(f\"Protein CoM: x: {x_1:.2f}, y: {y_1:.2f}, z: {z_1:.2f}\")\n",
    "print(f\"Ligand CoM: x: {x_2:.2f}, y: {y_2:.2f}, z: {z_2:.2f}\")"
   ]
  },
  {
   "cell_type": "markdown",
   "id": "4a3045ff-ac6d-41ed-97be-9d099361779c",
   "metadata": {},
   "source": [
    "Now we can compute the distance using MDAnalysis. We get the output as an array of an array with just one element, namely the distance between the centres of mass:"
   ]
  },
  {
   "cell_type": "code",
   "execution_count": 75,
   "id": "ddfe4f1d-c1f2-4776-8d8f-49e020daef21",
   "metadata": {},
   "outputs": [
    {
     "data": {
      "text/plain": [
       "14.142593830124756"
      ]
     },
     "execution_count": 75,
     "metadata": {},
     "output_type": "execute_result"
    }
   ],
   "source": [
    "distance_array = mda.analysis.distances.distance_array(ligand_centre_of_mass, protein_centre_of_mass)\n",
    "distance = distance_array[0][0]\n",
    "distance"
   ]
  },
  {
   "cell_type": "code",
   "execution_count": 76,
   "id": "9d815bcd-49df-4169-9a18-e662edcbd77c",
   "metadata": {},
   "outputs": [
    {
     "name": "stdout",
     "output_type": "stream",
     "text": [
      "Distance between protein CoM and ligand CoM: 14.143 Å\n"
     ]
    }
   ],
   "source": [
    "print(f\"Distance between protein CoM and ligand CoM: {distance:.3f} \\u212B\")"
   ]
  },
  {
   "cell_type": "code",
   "execution_count": null,
   "id": "808c9f13-51c4-4601-afd8-5f077e190f32",
   "metadata": {},
   "outputs": [],
   "source": []
  }
 ],
 "metadata": {
  "kernelspec": {
   "display_name": "Python 3 (ipykernel)",
   "language": "python",
   "name": "python3"
  },
  "language_info": {
   "codemirror_mode": {
    "name": "ipython",
    "version": 3
   },
   "file_extension": ".py",
   "mimetype": "text/x-python",
   "name": "python",
   "nbconvert_exporter": "python",
   "pygments_lexer": "ipython3",
   "version": "3.10.2"
  }
 },
 "nbformat": 4,
 "nbformat_minor": 5
}
