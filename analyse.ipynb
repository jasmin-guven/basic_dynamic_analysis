{
 "cells": [
  {
   "cell_type": "markdown",
   "id": "e929ed27-592a-4d9f-8128-7b1983e779b0",
   "metadata": {},
   "source": [
    "# Analysing dynamics structures "
   ]
  },
  {
   "cell_type": "markdown",
   "id": "0bb967cd-1b9e-4372-98d2-9cdd85f4d515",
   "metadata": {},
   "source": [
    "## Imports"
   ]
  },
  {
   "cell_type": "code",
   "execution_count": 46,
   "id": "be298e68-fabf-4c4b-8f2f-be237e093dd8",
   "metadata": {},
   "outputs": [],
   "source": [
    "import numpy as np\n",
    "import MDAnalysis as mda\n",
    "import MDAnalysis.analysis.rms"
   ]
  },
  {
   "cell_type": "markdown",
   "id": "2d7308d9-9198-4197-b721-f38ce8d4beed",
   "metadata": {
    "tags": []
   },
   "source": [
    "## Read in `.dcd` files"
   ]
  },
  {
   "cell_type": "code",
   "execution_count": 76,
   "id": "69418fd4-e176-4c74-8270-25e65fe7f574",
   "metadata": {},
   "outputs": [],
   "source": [
    "frames = []\n",
    "with mda.lib.formats.libdcd.DCDFile(\"data/ligand_10.dcd\") as trajectory_file:\n",
    "    for frame in trajectory_file:\n",
    "        frames.append(frame)"
   ]
  },
  {
   "cell_type": "code",
   "execution_count": 78,
   "id": "60790060-8214-404c-ab77-635ee85d191f",
   "metadata": {},
   "outputs": [
    {
     "data": {
      "text/plain": [
       "DCDFrame(xyz=array([[24.866346, 44.733044, 28.16643 ],\n",
       "       [24.410322, 44.670948, 29.66312 ],\n",
       "       [23.440842, 45.386215, 30.005636],\n",
       "       ...,\n",
       "       [72.48585 , 82.18371 , 44.732986],\n",
       "       [71.44646 , 82.92164 , 45.549152],\n",
       "       [47.45111 , 31.10867 , 37.421722]], dtype=float32), unitcell=array([72.10255277,  0.33333333, 72.10255277, -0.33333333,  0.33333333,\n",
       "       72.10255277]))"
      ]
     },
     "execution_count": 78,
     "metadata": {},
     "output_type": "execute_result"
    }
   ],
   "source": [
    "frames[0]"
   ]
  },
  {
   "cell_type": "code",
   "execution_count": 80,
   "id": "75249312-43a0-4237-91b4-2c1f2fdbd2d1",
   "metadata": {},
   "outputs": [
    {
     "data": {
      "text/plain": [
       "array([[22.283272 , 40.22844  , 29.746763 ],\n",
       "       [22.492094 , 39.965683 , 31.215078 ],\n",
       "       [22.761395 , 38.803448 , 31.5883   ],\n",
       "       ...,\n",
       "       [ 3.895906 , 47.484047 , 38.290794 ],\n",
       "       [ 5.1732435, 47.848766 , 37.56528  ],\n",
       "       [22.501585 , 41.853546 , 50.207954 ]], dtype=float32)"
      ]
     },
     "execution_count": 80,
     "metadata": {},
     "output_type": "execute_result"
    }
   ],
   "source": [
    "frames[-1].xyz"
   ]
  },
  {
   "cell_type": "code",
   "execution_count": 99,
   "id": "390438ee-e5d6-4709-9d8a-dcff3374a3ad",
   "metadata": {},
   "outputs": [],
   "source": [
    "universe = mda.Universe(\"data/ligand_10.prmtop\",\"data/ligand_10.dcd\")"
   ]
  },
  {
   "cell_type": "code",
   "execution_count": 100,
   "id": "d3ebc597-677e-45d0-a82f-155c8f8a5da9",
   "metadata": {},
   "outputs": [],
   "source": [
    "protein = universe.select_atoms(\"protein\")"
   ]
  },
  {
   "cell_type": "code",
   "execution_count": 101,
   "id": "e9f74675-daa4-4a7a-88a2-3c7dc8ae4bf1",
   "metadata": {},
   "outputs": [
    {
     "data": {
      "text/plain": [
       "<AtomGroup with 1035 atoms>"
      ]
     },
     "execution_count": 101,
     "metadata": {},
     "output_type": "execute_result"
    }
   ],
   "source": [
    "backbone = protein.select_atoms(\"backbone\")\n",
    "backbone"
   ]
  },
  {
   "cell_type": "code",
   "execution_count": 103,
   "id": "8573b2ba-4314-481b-b06e-90ce241a2409",
   "metadata": {},
   "outputs": [],
   "source": [
    "a_coordinates = backbone.positions.copy()\n",
    "universe.trajectory[-1]\n",
    "b_coordinates = backbone.positions.copy()\n",
    "rmsd_protein = mda.analysis.rms.rmsd(a_coordinates, b_coordinates, center=True)"
   ]
  },
  {
   "cell_type": "code",
   "execution_count": 104,
   "id": "8558a5af-b12f-446d-b900-5b56f321a92d",
   "metadata": {},
   "outputs": [
    {
     "data": {
      "text/plain": [
       "array([[22.492094, 39.965683, 31.215078],\n",
       "       [22.761395, 38.803448, 31.5883  ],\n",
       "       [22.195879, 40.978607, 32.028038],\n",
       "       ...,\n",
       "       [48.55381 , 68.310776, 27.013397],\n",
       "       [47.95    , 67.73146 , 26.139156],\n",
       "       [47.929115, 69.25346 , 27.705505]], dtype=float32)"
      ]
     },
     "execution_count": 104,
     "metadata": {},
     "output_type": "execute_result"
    }
   ],
   "source": [
    "a_coordinates"
   ]
  },
  {
   "cell_type": "code",
   "execution_count": 105,
   "id": "d5b40360-4d67-4ddc-b2c6-24e0bcaf57fd",
   "metadata": {},
   "outputs": [
    {
     "data": {
      "text/plain": [
       "array([[22.492094, 39.965683, 31.215078],\n",
       "       [22.761395, 38.803448, 31.5883  ],\n",
       "       [22.195879, 40.978607, 32.028038],\n",
       "       ...,\n",
       "       [48.55381 , 68.310776, 27.013397],\n",
       "       [47.95    , 67.73146 , 26.139156],\n",
       "       [47.929115, 69.25346 , 27.705505]], dtype=float32)"
      ]
     },
     "execution_count": 105,
     "metadata": {},
     "output_type": "execute_result"
    }
   ],
   "source": [
    "b_coordinates"
   ]
  },
  {
   "cell_type": "code",
   "execution_count": 106,
   "id": "0a3d4f75-f098-4f3b-be04-e8d5f3357141",
   "metadata": {},
   "outputs": [
    {
     "data": {
      "text/plain": [
       "0.0"
      ]
     },
     "execution_count": 106,
     "metadata": {},
     "output_type": "execute_result"
    }
   ],
   "source": [
    "rmsd_protein"
   ]
  },
  {
   "cell_type": "code",
   "execution_count": 108,
   "id": "71a9f579-858b-4b3a-beb6-d4f270b35339",
   "metadata": {},
   "outputs": [
    {
     "data": {
      "text/plain": [
       "<MDAnalysis.analysis.rms.RMSD at 0x2d57fa080>"
      ]
     },
     "execution_count": 108,
     "metadata": {},
     "output_type": "execute_result"
    }
   ],
   "source": [
    "reference_universe = mda.Universe(\"data/ligand_10.prmtop\", frames[0].xyz)\n",
    "universe = mda.Universe(\"data/ligand_10.prmtop\",\"data/ligand_10.dcd\")\n",
    "\n",
    "reference_protein = reference_universe.select_atoms(\"protein\")\n",
    "protein = universe.select_atoms(\"protein\")\n",
    "rmsd_protein = mda.analysis.rms.RMSD(protein, reference)\n",
    "rmsd_protein.run()"
   ]
  },
  {
   "cell_type": "code",
   "execution_count": 109,
   "id": "ffb62917-0717-490b-91b2-2906702107bd",
   "metadata": {},
   "outputs": [
    {
     "name": "stdout",
     "output_type": "stream",
     "text": [
      "[[0.00000000e+00 1.00000000e+00 2.00000000e+00 ... 4.99700000e+03\n",
      "  4.99800000e+03 4.99900000e+03]\n",
      " [0.00000000e+00 4.88882123e-05 9.77764246e-05 ... 2.44294397e-01\n",
      "  2.44343285e-01 2.44392173e-01]\n",
      " [4.10827508e-06 1.66443008e+01 1.94511942e+01 ... 4.96506256e+01\n",
      "  4.96654232e+01 4.96138932e+01]]\n"
     ]
    }
   ],
   "source": [
    "import matplotlib.pyplot as plt\n",
    "rmsd_result = rmsd_protein.results.rmsd.T   # transpose makes it easier for plotting\n",
    "print(rmsd_result)\n",
    "# time = rmsd_result[1]\n",
    "# fig = plt.figure(figsize=(4,4))\n",
    "# ax = fig.add_subplot(111)\n",
    "# ax.plot(time, rmsd_result[2], 'k-',  label=\"all\")\n",
    "# ax.legend(loc=\"best\")\n",
    "# ax.set_xlabel(\"time (ps)\")\n",
    "# ax.set_ylabel(r\"RMSD ($\\AA$)\")\n",
    "# fig.savefig(\"rmsd_all_CORE_LID_NMP_ref1AKE.pdf\")"
   ]
  },
  {
   "cell_type": "code",
   "execution_count": null,
   "id": "d1850803-16b7-4c9b-8f57-85cf475b70fb",
   "metadata": {},
   "outputs": [],
   "source": []
  }
 ],
 "metadata": {
  "kernelspec": {
   "display_name": "Python 3 (ipykernel)",
   "language": "python",
   "name": "python3"
  },
  "language_info": {
   "codemirror_mode": {
    "name": "ipython",
    "version": 3
   },
   "file_extension": ".py",
   "mimetype": "text/x-python",
   "name": "python",
   "nbconvert_exporter": "python",
   "pygments_lexer": "ipython3",
   "version": "3.10.2"
  }
 },
 "nbformat": 4,
 "nbformat_minor": 5
}
