{
 "cells": [
  {
   "cell_type": "markdown",
   "id": "e929ed27-592a-4d9f-8128-7b1983e779b0",
   "metadata": {},
   "source": [
    "# Analysing dynamics structures "
   ]
  },
  {
   "cell_type": "markdown",
   "id": "0bb967cd-1b9e-4372-98d2-9cdd85f4d515",
   "metadata": {},
   "source": [
    "## Imports"
   ]
  },
  {
   "cell_type": "markdown",
   "id": "865328cc-5afe-4029-9fd7-dd90426b7801",
   "metadata": {},
   "source": [
    "Run the below cell to get all required modules:"
   ]
  },
  {
   "cell_type": "code",
   "execution_count": 11,
   "id": "be298e68-fabf-4c4b-8f2f-be237e093dd8",
   "metadata": {},
   "outputs": [],
   "source": [
    "import numpy as np\n",
    "import MDAnalysis as mda\n",
    "import MDAnalysis.analysis.rms\n",
    "import matplotlib.pyplot as plt"
   ]
  },
  {
   "cell_type": "markdown",
   "id": "2d7308d9-9198-4197-b721-f38ce8d4beed",
   "metadata": {
    "tags": []
   },
   "source": [
    "## Read in `.dcd` files"
   ]
  },
  {
   "cell_type": "markdown",
   "id": "aa60a9d7-07ac-40e3-a35f-b9fb690accd2",
   "metadata": {},
   "source": [
    "First, let's define the path to all of the data files:"
   ]
  },
  {
   "cell_type": "code",
   "execution_count": 5,
   "id": "d1b3bc9b-9a85-45bd-8694-13969bb37d99",
   "metadata": {},
   "outputs": [],
   "source": [
    "data_path = \"data/\""
   ]
  },
  {
   "cell_type": "markdown",
   "id": "70ca9962-b16c-4e94-8287-b88be1c1c581",
   "metadata": {},
   "source": [
    "Then, we can load in the trajectory `.dcd` file so we can get a list of all frames in the trajectory:"
   ]
  },
  {
   "cell_type": "code",
   "execution_count": 7,
   "id": "69418fd4-e176-4c74-8270-25e65fe7f574",
   "metadata": {},
   "outputs": [],
   "source": [
    "frames = []\n",
    "with mda.lib.formats.libdcd.DCDFile(data_path+\"ligand_10.dcd\") as trajectory_file:\n",
    "    for frame in trajectory_file:\n",
    "        frames.append(frame)"
   ]
  },
  {
   "cell_type": "markdown",
   "id": "c401f595-f52b-4d47-987a-0c7b38915751",
   "metadata": {},
   "source": [
    "# RMSD for protein"
   ]
  },
  {
   "cell_type": "markdown",
   "id": "0f86e334-ec1f-4f08-aadd-e292fe90676a",
   "metadata": {},
   "source": [
    "## Create required structures"
   ]
  },
  {
   "cell_type": "markdown",
   "id": "2c9dfc39-f566-4493-9a1b-17fc7e1211af",
   "metadata": {},
   "source": [
    "Here we first define the first frame of the trajectory from the above list.\n",
    "\n",
    "Then, we create an MDAnalysis Universe object and a reference Universe so we can calculate the RMSD of the protein."
   ]
  },
  {
   "cell_type": "code",
   "execution_count": 8,
   "id": "a69efc57-fbb3-4bef-8e64-c9aaf656ecb3",
   "metadata": {},
   "outputs": [],
   "source": [
    "first_frame = frames[0].xyz\n",
    "universe = mda.Universe(data_path+\"ligand_10.prmtop\", data_path+\"ligand_10.dcd\")\n",
    "reference_universe = mda.Universe(data_path+\"ligand_10.prmtop\", first_frame)"
   ]
  },
  {
   "cell_type": "markdown",
   "id": "9ca5edd0-bb45-4138-9ba4-4b4786ab9acc",
   "metadata": {},
   "source": [
    "We need to select only the protein, as the structure also contains waters and the ligand, that we don't need for the protein RMSD calculation:"
   ]
  },
  {
   "cell_type": "code",
   "execution_count": 9,
   "id": "63cc02ec-b5d6-480e-aa95-870ace362ba5",
   "metadata": {},
   "outputs": [],
   "source": [
    "protein_structure = universe.select_atoms(\"protein\")\n",
    "reference_protein_structure = reference_universe.select_atoms(\"protein\")"
   ]
  },
  {
   "cell_type": "markdown",
   "id": "99c2424f-8925-46e3-b6b8-88cb4ca8ead5",
   "metadata": {},
   "source": [
    "## RMSD calculation"
   ]
  },
  {
   "cell_type": "markdown",
   "id": "3a2d05f5-6f7f-4511-ae1c-a97d423f0313",
   "metadata": {},
   "source": [
    "Finally, we can calculate the RMSD with respect to the protein backbone:"
   ]
  },
  {
   "cell_type": "code",
   "execution_count": 12,
   "id": "71a9f579-858b-4b3a-beb6-d4f270b35339",
   "metadata": {},
   "outputs": [
    {
     "data": {
      "text/plain": [
       "<MDAnalysis.analysis.rms.RMSD at 0x137d1c970>"
      ]
     },
     "execution_count": 12,
     "metadata": {},
     "output_type": "execute_result"
    }
   ],
   "source": [
    "rmsd_protein = mda.analysis.rms.RMSD(protein_structure, reference_protein_structure, select=\"backbone\")\n",
    "rmsd_protein.run()"
   ]
  },
  {
   "cell_type": "markdown",
   "id": "523ad6bc-7f52-4389-911c-e7374221e31b",
   "metadata": {},
   "source": [
    "Now we can look at the RMSD result. \n",
    "\n",
    "We transpose the result, as this makes it easier for plotting:"
   ]
  },
  {
   "cell_type": "code",
   "execution_count": 14,
   "id": "6fb6d37a-c80e-4085-871e-93b6bfd9d980",
   "metadata": {},
   "outputs": [
    {
     "name": "stdout",
     "output_type": "stream",
     "text": [
      "[[0.00000000e+00 1.00000000e+00 2.00000000e+00 ... 4.99700000e+03\n",
      "  4.99800000e+03 4.99900000e+03]\n",
      " [0.00000000e+00 4.88882123e-05 9.77764246e-05 ... 2.44294397e-01\n",
      "  2.44343285e-01 2.44392173e-01]\n",
      " [7.49928569e-07 5.84204231e-01 6.99914328e-01 ... 2.45271977e+00\n",
      "  2.42505997e+00 2.44376368e+00]]\n"
     ]
    }
   ],
   "source": [
    "rmsd_result = rmsd_protein.results.rmsd.T\n",
    "print(rmsd_result)"
   ]
  },
  {
   "cell_type": "markdown",
   "id": "ad69ab53-f85f-4cd5-9c69-f6f3882a8242",
   "metadata": {},
   "source": [
    "In the results list of arrays, the first array is the frame number, second array is the time in picoseconds and the third array is the RMSD result for that frame and time."
   ]
  },
  {
   "cell_type": "code",
   "execution_count": 15,
   "id": "d997c883-dd5a-4e60-8739-eb6b781a0a27",
   "metadata": {},
   "outputs": [],
   "source": [
    "time = rmsd_result[1]\n",
    "rmsd_values = rmsd_result[2]"
   ]
  },
  {
   "cell_type": "markdown",
   "id": "c2fd184d-03f5-47d1-9a7c-39a162d6d844",
   "metadata": {},
   "source": [
    "## Plot RMDS for protein"
   ]
  },
  {
   "cell_type": "code",
   "execution_count": 16,
   "id": "ffb62917-0717-490b-91b2-2906702107bd",
   "metadata": {},
   "outputs": [
    {
     "data": {
      "text/plain": [
       "Text(0, 0.5, 'RMSD ($\\\\AA$)')"
      ]
     },
     "execution_count": 16,
     "metadata": {},
     "output_type": "execute_result"
    },
    {
     "data": {
      "image/png": "[encoded data removed]",
      "text/plain": [
       "<Figure size 576x576 with 1 Axes>"
      ]
     },
     "metadata": {
      "needs_background": "light"
     },
     "output_type": "display_data"
    }
   ],
   "source": [
    "fig = plt.figure(figsize=(8, 8))\n",
    "ax = fig.add_subplot(111)\n",
    "ax.plot(time, rmsd_values, \"k-\")\n",
    "ax.set_xlabel(\"time (ps)\", fontsize = 14)\n",
    "ax.set_ylabel(r\"RMSD ($\\AA$)\")"
   ]
  },
  {
   "cell_type": "code",
   "execution_count": null,
   "id": "d1850803-16b7-4c9b-8f57-85cf475b70fb",
   "metadata": {},
   "outputs": [],
   "source": []
  }
 ],
 "metadata": {
  "kernelspec": {
   "display_name": "Python 3 (ipykernel)",
   "language": "python",
   "name": "python3"
  },
  "language_info": {
   "codemirror_mode": {
    "name": "ipython",
    "version": 3
   },
   "file_extension": ".py",
   "mimetype": "text/x-python",
   "name": "python",
   "nbconvert_exporter": "python",
   "pygments_lexer": "ipython3",
   "version": "3.10.2"
  }
 },
 "nbformat": 4,
 "nbformat_minor": 5
}
