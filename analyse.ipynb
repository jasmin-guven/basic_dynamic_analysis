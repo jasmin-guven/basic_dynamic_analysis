{
 "cells": [
  {
   "cell_type": "markdown",
   "id": "e929ed27-592a-4d9f-8128-7b1983e779b0",
   "metadata": {},
   "source": [
    "# Analysing dynamics structures "
   ]
  },
  {
   "cell_type": "markdown",
   "id": "0bb967cd-1b9e-4372-98d2-9cdd85f4d515",
   "metadata": {},
   "source": [
    "## Imports"
   ]
  },
  {
   "cell_type": "code",
   "execution_count": 5,
   "id": "be298e68-fabf-4c4b-8f2f-be237e093dd8",
   "metadata": {},
   "outputs": [],
   "source": [
    "import numpy as np\n",
    "import MDAnalysis as mda"
   ]
  },
  {
   "cell_type": "code",
   "execution_count": 7,
   "id": "7023d2d2-640d-46e6-b6a0-3c87c0621fae",
   "metadata": {},
   "outputs": [
    {
     "data": {
      "text/plain": [
       "<module 'MDAnalysis' from '/Users/jasminguven/miniforge3/envs/jupyterlab/lib/python3.10/site-packages/MDAnalysis/__init__.py'>"
      ]
     },
     "execution_count": 7,
     "metadata": {},
     "output_type": "execute_result"
    }
   ],
   "source": [
    "mda"
   ]
  },
  {
   "cell_type": "markdown",
   "id": "2d7308d9-9198-4197-b721-f38ce8d4beed",
   "metadata": {},
   "source": [
    "## Read in `.dcd` files"
   ]
  },
  {
   "cell_type": "code",
   "execution_count": 21,
   "id": "37978b0d-58c8-4e55-b1e5-28d1920a10fd",
   "metadata": {},
   "outputs": [
    {
     "name": "stdout",
     "output_type": "stream",
     "text": [
      "{'natoms': 29135, 'istart': 0, 'nsavc': 1, 'delta': 0.0010000000474974513, 'is_periodic': True, 'remarks': 'Cpptraj Generated dcd file.'}\n"
     ]
    }
   ],
   "source": [
    "with mda.lib.formats.libdcd.DCDFile(\"data/ligand_10.dcd\") as ligand_file_1:\n",
    "    header = ligand_file_1.header\n",
    "    print(header)\n",
    "    n_atoms = header[\"natoms\"]\n",
    "    # for frame in ligand_file_1:\n",
    "        # print(frame)"
   ]
  },
  {
   "cell_type": "code",
   "execution_count": 22,
   "id": "390438ee-e5d6-4709-9d8a-dcff3374a3ad",
   "metadata": {},
   "outputs": [],
   "source": [
    "universe = mda.Universe(\"data/ligand_10.dcd\")"
   ]
  },
  {
   "cell_type": "code",
   "execution_count": 23,
   "id": "d3ebc597-677e-45d0-a82f-155c8f8a5da9",
   "metadata": {},
   "outputs": [
    {
     "data": {
      "text/plain": [
       "<Universe with 29135 atoms>"
      ]
     },
     "execution_count": 23,
     "metadata": {},
     "output_type": "execute_result"
    }
   ],
   "source": [
    "universe"
   ]
  },
  {
   "cell_type": "code",
   "execution_count": null,
   "id": "e9f74675-daa4-4a7a-88a2-3c7dc8ae4bf1",
   "metadata": {},
   "outputs": [],
   "source": []
  }
 ],
 "metadata": {
  "kernelspec": {
   "display_name": "Python 3 (ipykernel)",
   "language": "python",
   "name": "python3"
  },
  "language_info": {
   "codemirror_mode": {
    "name": "ipython",
    "version": 3
   },
   "file_extension": ".py",
   "mimetype": "text/x-python",
   "name": "python",
   "nbconvert_exporter": "python",
   "pygments_lexer": "ipython3",
   "version": "3.10.2"
  }
 },
 "nbformat": 4,
 "nbformat_minor": 5
}
