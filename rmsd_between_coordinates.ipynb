{
 "cells": [
  {
   "cell_type": "code",
   "execution_count": 8,
   "metadata": {},
   "outputs": [],
   "source": [
    "import MDAnalysis as mda\n",
    "import MDAnalysis.analysis.rms"
   ]
  },
  {
   "cell_type": "code",
   "execution_count": 10,
   "metadata": {},
   "outputs": [],
   "source": [
    "# Load in Flare structure into an MDAnlysis Universe\n",
    "flare_universe = mda.Universe(\"data/18a-Flare.pdb\")\n",
    "# Load in DiffDock structure into an MDAnlysis Universe\n",
    "diffdock_universe = mda.Universe(\"data/18a-Diffdock.pdb\")"
   ]
  },
  {
   "cell_type": "code",
   "execution_count": 17,
   "metadata": {},
   "outputs": [],
   "source": [
    "# Select ligand from Flare with its residue name\n",
    "flare_ligand_coordinates = flare_universe.select_atoms(\"resname MOL\").positions\n",
    "# Select ligand from DiffDock with its residue name\n",
    "diffdock_ligand_coordinates = diffdock_universe.select_atoms(\"resname MOL\").positions"
   ]
  },
  {
   "cell_type": "code",
   "execution_count": 18,
   "metadata": {},
   "outputs": [],
   "source": [
    "# Calculate RMSD between Flare and DiffDock poses\n",
    "rmsd = mda.analysis.rms.rmsd(a=flare_ligand_coordinates,\n",
    "                             b=diffdock_ligand_coordinates)"
   ]
  },
  {
   "cell_type": "code",
   "execution_count": 19,
   "metadata": {},
   "outputs": [
    {
     "data": {
      "text/plain": [
       "3.415372361001835"
      ]
     },
     "execution_count": 19,
     "metadata": {},
     "output_type": "execute_result"
    }
   ],
   "source": [
    "rmsd"
   ]
  },
  {
   "cell_type": "code",
   "execution_count": null,
   "metadata": {},
   "outputs": [],
   "source": []
  }
 ],
 "metadata": {
  "kernelspec": {
   "display_name": "Python 3",
   "language": "python",
   "name": "python3"
  },
  "language_info": {
   "codemirror_mode": {
    "name": "ipython",
    "version": 3
   },
   "file_extension": ".py",
   "mimetype": "text/x-python",
   "name": "python",
   "nbconvert_exporter": "python",
   "pygments_lexer": "ipython3",
   "version": "3.11.4"
  },
  "orig_nbformat": 4
 },
 "nbformat": 4,
 "nbformat_minor": 2
}
