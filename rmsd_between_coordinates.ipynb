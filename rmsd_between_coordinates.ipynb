{
 "cells": [
  {
   "cell_type": "code",
   "execution_count": 8,
   "metadata": {},
   "outputs": [],
   "source": [
    "import MDAnalysis as mda\n",
    "import MDAnalysis.analysis.rms"
   ]
  },
  {
   "cell_type": "code",
   "execution_count": 4,
   "metadata": {},
   "outputs": [
    {
     "ename": "TypeError",
     "evalue": "Topology argument required to make Universe. Try Universe.empty(n_atoms, ...) to construct your own Universe.",
     "output_type": "error",
     "traceback": [
      "\u001b[0;31m---------------------------------------------------------------------------\u001b[0m",
      "\u001b[0;31mTypeError\u001b[0m                                 Traceback (most recent call last)",
      "Cell \u001b[0;32mIn[4], line 1\u001b[0m\n\u001b[0;32m----> 1\u001b[0m flare_universe \u001b[39m=\u001b[39m mda\u001b[39m.\u001b[39;49mUniverse()\n\u001b[1;32m      2\u001b[0m diffdock_universe \u001b[39m=\u001b[39m mda\u001b[39m.\u001b[39mUniverse()\n",
      "File \u001b[0;32m~/Software/miniconda3/envs/mda/lib/python3.11/site-packages/MDAnalysis/core/universe.py:364\u001b[0m, in \u001b[0;36mUniverse.__init__\u001b[0;34m(self, topology, all_coordinates, format, topology_format, transformations, guess_bonds, vdwradii, fudge_factor, lower_bound, in_memory, in_memory_step, *coordinates, **kwargs)\u001b[0m\n\u001b[1;32m    361\u001b[0m     \u001b[39mself\u001b[39m\u001b[39m.\u001b[39m_topology \u001b[39m=\u001b[39m topology\n\u001b[1;32m    362\u001b[0m \u001b[39melse\u001b[39;00m:\n\u001b[1;32m    363\u001b[0m     \u001b[39m# point to Universe.empty instead of making empty universe\u001b[39;00m\n\u001b[0;32m--> 364\u001b[0m     \u001b[39mraise\u001b[39;00m \u001b[39mTypeError\u001b[39;00m(\u001b[39m'\u001b[39m\u001b[39mTopology argument required to make Universe. \u001b[39m\u001b[39m'\u001b[39m\n\u001b[1;32m    365\u001b[0m                     \u001b[39m'\u001b[39m\u001b[39mTry Universe.empty(n_atoms, ...) to construct \u001b[39m\u001b[39m'\u001b[39m\n\u001b[1;32m    366\u001b[0m                     \u001b[39m'\u001b[39m\u001b[39myour own Universe.\u001b[39m\u001b[39m'\u001b[39m)\n\u001b[1;32m    368\u001b[0m _generate_from_topology(\u001b[39mself\u001b[39m)  \u001b[39m# make real atoms, res, segments\u001b[39;00m\n\u001b[1;32m    370\u001b[0m coordinates \u001b[39m=\u001b[39m _resolve_coordinates(\u001b[39mself\u001b[39m\u001b[39m.\u001b[39mfilename, \u001b[39m*\u001b[39mcoordinates,\n\u001b[1;32m    371\u001b[0m                                    \u001b[39mformat\u001b[39m\u001b[39m=\u001b[39m\u001b[39mformat\u001b[39m,\n\u001b[1;32m    372\u001b[0m                                    all_coordinates\u001b[39m=\u001b[39mall_coordinates)\n",
      "\u001b[0;31mTypeError\u001b[0m: Topology argument required to make Universe. Try Universe.empty(n_atoms, ...) to construct your own Universe."
     ]
    }
   ],
   "source": [
    "# Load in Flare structure into an MDAnlysis Universe\n",
    "flare_universe = mda.Universe(\"\")\n",
    "# Load in DiffDock structure into an MDAnlysis Universe\n",
    "diffdock_universe = mda.Universe()"
   ]
  },
  {
   "cell_type": "code",
   "execution_count": 5,
   "metadata": {},
   "outputs": [
    {
     "ename": "NameError",
     "evalue": "name 'flare_universe' is not defined",
     "output_type": "error",
     "traceback": [
      "\u001b[0;31m---------------------------------------------------------------------------\u001b[0m",
      "\u001b[0;31mNameError\u001b[0m                                 Traceback (most recent call last)",
      "Cell \u001b[0;32mIn[5], line 1\u001b[0m\n\u001b[0;32m----> 1\u001b[0m flare_ligand \u001b[39m=\u001b[39m flare_universe\u001b[39m.\u001b[39mselect_atoms(\u001b[39m\"\u001b[39m\u001b[39mresname \u001b[39m\u001b[39m\"\u001b[39m)\n\u001b[1;32m      2\u001b[0m diffdock_ligand \u001b[39m=\u001b[39m diffdock_universe\u001b[39m.\u001b[39mselect_atoms(\u001b[39m\"\u001b[39m\u001b[39mresname \u001b[39m\u001b[39m\"\u001b[39m)\n",
      "\u001b[0;31mNameError\u001b[0m: name 'flare_universe' is not defined"
     ]
    }
   ],
   "source": [
    "# Select ligand from Flare with its residue name\n",
    "flare_ligand = flare_universe.select_atoms(\"resname \")\n",
    "# Select ligand from DiffDock with its residue name\n",
    "diffdock_ligand = diffdock_universe.select_atoms(\"resname \")"
   ]
  },
  {
   "cell_type": "code",
   "execution_count": 9,
   "metadata": {},
   "outputs": [
    {
     "ename": "TypeError",
     "evalue": "rmsd() missing 2 required positional arguments: 'a' and 'b'",
     "output_type": "error",
     "traceback": [
      "\u001b[0;31m---------------------------------------------------------------------------\u001b[0m",
      "\u001b[0;31mTypeError\u001b[0m                                 Traceback (most recent call last)",
      "Cell \u001b[0;32mIn[9], line 1\u001b[0m\n\u001b[0;32m----> 1\u001b[0m rmsd \u001b[39m=\u001b[39m mda\u001b[39m.\u001b[39;49manalysis\u001b[39m.\u001b[39;49mrms\u001b[39m.\u001b[39;49mrmsd()\n",
      "\u001b[0;31mTypeError\u001b[0m: rmsd() missing 2 required positional arguments: 'a' and 'b'"
     ]
    }
   ],
   "source": [
    "# Calculate RMSD between Flare and DiffDock poses\n",
    "rmsd = mda.analysis.rms.rmsd(a= ,\n",
    "                             b= ,)"
   ]
  },
  {
   "cell_type": "code",
   "execution_count": null,
   "metadata": {},
   "outputs": [],
   "source": []
  }
 ],
 "metadata": {
  "kernelspec": {
   "display_name": "Python 3",
   "language": "python",
   "name": "python3"
  },
  "language_info": {
   "codemirror_mode": {
    "name": "ipython",
    "version": 3
   },
   "file_extension": ".py",
   "mimetype": "text/x-python",
   "name": "python",
   "nbconvert_exporter": "python",
   "pygments_lexer": "ipython3",
   "version": "3.11.4"
  },
  "orig_nbformat": 4
 },
 "nbformat": 4,
 "nbformat_minor": 2
}
