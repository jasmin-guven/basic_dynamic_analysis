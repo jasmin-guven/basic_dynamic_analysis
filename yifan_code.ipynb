{
 "cells": [
  {
   "cell_type": "code",
   "execution_count": 85,
   "id": "b2484eb8-cf6d-4333-b5ac-0bd1a3c2f542",
   "metadata": {
    "scrolled": true,
    "tags": []
   },
   "outputs": [
    {
     "name": "stdout",
     "output_type": "stream",
     "text": [
      "HETATM 4157  N   MOL I   1      18.156 -12.898  21.795  1.00  0.00           N  \n",
      "\n",
      "HETATM 4158  C   MOL I   1      17.855 -11.611  21.148  1.00  0.00           C  \n",
      "\n",
      "HETATM 4159  C1  MOL I   1      17.314 -13.419  22.713  1.00  0.00           C  \n",
      "\n",
      "HETATM 4160  O   MOL I   1      16.254 -12.903  23.041  1.00  0.00           O  \n",
      "\n",
      "HETATM 4161  C2  MOL I   1      16.500 -11.602  20.474  1.00  0.00           C  \n",
      "\n",
      "HETATM 4162  O1  MOL I   1      16.133 -12.509  19.741  1.00  0.00           O  \n",
      "\n",
      "HETATM 4163  C3  MOL I   1      18.957 -11.504  20.085  1.00  0.00           C  \n",
      "\n",
      "HETATM 4164  C4  MOL I   1      17.736 -14.740  23.326  1.00  0.00           C  \n",
      "\n",
      "HETATM 4165  N1  MOL I   1      15.771 -10.517  20.786  1.00  0.00           N  \n",
      "\n",
      "HETATM 4166  C5  MOL I   1      20.109 -12.342  20.644  1.00  0.00           C  \n",
      "\n",
      "HETATM 4167  N2  MOL I   1      16.496 -15.578  23.446  1.00  0.00           N1+\n",
      "\n",
      "HETATM 4168  C6  MOL I   1      18.305 -14.517  24.742  1.00  0.00           C  \n",
      "\n",
      "HETATM 4169  C7  MOL I   1      14.394 -10.394  20.287  1.00  0.00           C  \n",
      "\n",
      "HETATM 4170  C8  MOL I   1      19.419 -13.518  21.351  1.00  0.00           C  \n",
      "\n",
      "HETATM 4171  C9  MOL I   1      19.735 -14.006  24.798  1.00  0.00           C  \n",
      "\n",
      "HETATM 4172  C10 MOL I   1      13.426 -10.280  21.454  1.00  0.00           C  \n",
      "\n",
      "HETATM 4173  C11 MOL I   1      20.778 -14.828  24.429  1.00  0.00           C  \n",
      "\n",
      "HETATM 4174  C12 MOL I   1      12.579 -11.316  21.796  1.00  0.00           C  \n",
      "\n",
      "HETATM 4175  C13 MOL I   1      22.074 -14.368  24.480  1.00  0.00           C  \n",
      "\n",
      "HETATM 4176  C14 MOL I   1      11.715 -11.182  22.862  1.00  0.00           C  \n",
      "\n",
      "HETATM 4177  C15 MOL I   1      22.332 -13.083  24.901  1.00  0.00           C  \n",
      "\n",
      "HETATM 4178  C16 MOL I   1      11.693 -10.016  23.590  1.00  0.00           C  \n",
      "\n",
      "HETATM 4179  C17 MOL I   1      21.293 -12.260  25.270  1.00  0.00           C  \n",
      "\n",
      "HETATM 4180  C18 MOL I   1      12.536  -8.980  23.253  1.00  0.00           C  \n",
      "\n",
      "HETATM 4181  C19 MOL I   1      19.998 -12.720  25.217  1.00  0.00           C  \n",
      "\n",
      "HETATM 4182  C20 MOL I   1      13.398  -9.114  22.187  1.00  0.00           C  \n",
      "\n",
      "HETATM 4183  F   MOL I   1      12.589 -12.462  21.100  1.00  0.00           F  \n",
      "\n",
      "HETATM 4184 CL   MOL I   1      12.516  -7.505  24.173  1.00  0.00          CL  \n",
      "\n",
      "HETATM 4185  H   MOL I   1      17.829 -10.858  21.806  1.00  0.00           H  \n",
      "\n",
      "HETATM 4186  H1  MOL I   1      18.436 -15.176  22.760  1.00  0.00           H  \n",
      "\n",
      "HETATM 4187  H2  MOL I   1      19.237 -10.552  19.959  1.00  0.00           H  \n",
      "\n",
      "HETATM 4188  H3  MOL I   1      18.653 -11.825  19.188  1.00  0.00           H  \n",
      "\n",
      "HETATM 4189  H4  MOL I   1      16.100  -9.885  21.301  1.00  0.00           H  \n",
      "\n",
      "HETATM 4190  H5  MOL I   1      20.655 -11.809  21.290  1.00  0.00           H  \n",
      "\n",
      "HETATM 4191  H6  MOL I   1      20.740 -12.645  19.931  1.00  0.00           H  \n",
      "\n",
      "HETATM 4192  H9  MOL I   1      16.269 -15.978  22.660  1.00  0.00           H  \n",
      "\n",
      "HETATM 4193  H8  MOL I   1      15.778 -15.082  23.708  1.00  0.00           H  \n",
      "\n",
      "HETATM 4194  H7  MOL I   1      16.595 -16.240  24.063  1.00  0.00           H  \n",
      "\n",
      "HETATM 4195  H10 MOL I   1      18.266 -15.388  25.232  1.00  0.00           H  \n",
      "\n",
      "HETATM 4196  H11 MOL I   1      17.742 -13.800  25.155  1.00  0.00           H  \n",
      "\n",
      "HETATM 4197  H12 MOL I   1      14.165 -11.201  19.742  1.00  0.00           H  \n",
      "\n",
      "HETATM 4198  H13 MOL I   1      14.323  -9.573  19.721  1.00  0.00           H  \n",
      "\n",
      "HETATM 4199  H14 MOL I   1      19.253 -14.277  20.722  1.00  0.00           H  \n",
      "\n",
      "HETATM 4200  H15 MOL I   1      19.958 -13.918  22.091  1.00  0.00           H  \n",
      "\n",
      "HETATM 4201  H16 MOL I   1      20.593 -15.761  24.123  1.00  0.00           H  \n",
      "\n",
      "HETATM 4202  H17 MOL I   1      22.828 -14.967  24.211  1.00  0.00           H  \n",
      "\n",
      "HETATM 4203  H18 MOL I   1      11.103 -11.934  23.106  1.00  0.00           H  \n",
      "\n",
      "HETATM 4204  H19 MOL I   1      23.274 -12.749  24.939  1.00  0.00           H  \n",
      "\n",
      "HETATM 4205  H20 MOL I   1      11.065  -9.919  24.363  1.00  0.00           H  \n",
      "\n",
      "HETATM 4206  H21 MOL I   1      21.480 -11.326  25.576  1.00  0.00           H  \n",
      "\n",
      "HETATM 4207  H22 MOL I   1      19.244 -12.120  25.484  1.00  0.00           H  \n",
      "\n",
      "HETATM 4208  H23 MOL I   1      14.008  -8.360  21.944  1.00  0.00           H  \n",
      "\n"
     ]
    }
   ],
   "source": [
    "res_counter = 0\n",
    "with open(\"D:\\downloads/dcdfile/ligand_11.pdb\") as file:\n",
    "    lines = file.readlines()\n",
    "    for line in lines:\n",
    "        if \"HETATM\" in line and \"MOL\" in line:\n",
    "            print(line)\n",
    "            res_counter += 1"
   ]
  },
  {
   "cell_type": "code",
   "execution_count": null,
   "id": "1ed891f3-3d0d-4a2c-98de-69f52dba3102",
   "metadata": {},
   "outputs": [
    {
     "name": "stdout",
     "output_type": "stream",
     "text": [
      "The system contains 52 ligand atoms.\n"
     ]
    }
   ],
   "source": [
    "print(f\"The system contains {res_counter} ligand atoms.\")"
   ]
  },
  {
   "cell_type": "code",
   "execution_count": 2,
   "id": "f9a7692d-5f47-41d3-a33f-c8fe67e83546",
   "metadata": {},
   "outputs": [],
   "source": [
    "import numpy as np\n",
    "import MDAnalysis as mda\n",
    "import MDAnalysis.analysis\n",
    "import MDAnalysis.analysis.rms\n",
    "import MDAnalysis.analysis.distances\n",
    "import matplotlib.pyplot as plt"
   ]
  },
  {
   "cell_type": "code",
   "execution_count": 5,
   "id": "d1362657-2bf9-4876-9125-006baea03208",
   "metadata": {},
   "outputs": [],
   "source": [
    "data_path = \"../Downloads/\""
   ]
  },
  {
   "cell_type": "code",
   "execution_count": 6,
   "id": "c82cef03-e2e6-48b7-a3b0-4f99e91b1aec",
   "metadata": {},
   "outputs": [],
   "source": [
    "protein_frames = []\n",
    "with mda.lib.formats.libdcd.DCDFile(data_path+\"MODEL_AF-P00734-F1-model_v2_P_3u8t_362_9.model_Dynamics_1.dcd\") as trajectory_file:\n",
    "    for frame in trajectory_file:\n",
    "        protein_frames.append(frame)"
   ]
  },
  {
   "cell_type": "code",
   "execution_count": 7,
   "id": "991dece7-7e36-4400-9000-9ae96b6f210f",
   "metadata": {},
   "outputs": [],
   "source": [
    "protein_first_frame = protein_frames[0].xyz\n",
    "universe = mda.Universe(data_path+\"MODEL_AF-P00734-F1-model_v2_P_3u8t_362_9.model_Dynamics_1.prmtop\", data_path+\"MODEL_AF-P00734-F1-model_v2_P_3u8t_362_9.model_Dynamics_1.dcd\")\n",
    "reference_universe = mda.Universe(data_path+\"MODEL_AF-P00734-F1-model_v2_P_3u8t_362_9.model_Dynamics_1.prmtop\", protein_first_frame)"
   ]
  },
  {
   "cell_type": "code",
   "execution_count": 8,
   "id": "4e602896-f8d4-480d-bb4e-33562549ef8b",
   "metadata": {},
   "outputs": [],
   "source": [
    "protein_structure = universe.select_atoms(\"protein\")\n",
    "reference_protein_structure = reference_universe.select_atoms(\"protein\")"
   ]
  },
  {
   "cell_type": "code",
   "execution_count": 9,
   "id": "cd7271a8-c1f4-46e1-b9d1-8bfce0e61c2e",
   "metadata": {},
   "outputs": [
    {
     "data": {
      "text/plain": [
       "<MDAnalysis.analysis.rms.RMSD at 0x7f4a27006df0>"
      ]
     },
     "execution_count": 9,
     "metadata": {},
     "output_type": "execute_result"
    }
   ],
   "source": [
    "# This cell computes the RMSD of the backbone of the protein\n",
    "rmsd_protein = mda.analysis.rms.RMSD(protein_structure, reference_protein_structure, select=\"backbone\")\n",
    "rmsd_protein.run()"
   ]
  },
  {
   "cell_type": "code",
   "execution_count": 10,
   "id": "c83b126e-89ae-414f-a9a0-0b7fe0afc566",
   "metadata": {},
   "outputs": [
    {
     "name": "stdout",
     "output_type": "stream",
     "text": [
      "[[0.00000000e+00 1.00000000e+00 2.00000000e+00 ... 4.99700000e+03\n",
      "  4.99800000e+03 4.99900000e+03]\n",
      " [0.00000000e+00 4.88882123e-05 9.77764246e-05 ... 2.44294397e-01\n",
      "  2.44343285e-01 2.44392173e-01]\n",
      " [8.86899099e-07 5.95457803e-01 7.64201351e-01 ... 2.18349919e+00\n",
      "  2.21395531e+00 2.17026861e+00]]\n"
     ]
    }
   ],
   "source": [
    "protein_rmsd_result = rmsd_protein.results.rmsd.T\n",
    "print(protein_rmsd_result)"
   ]
  },
  {
   "cell_type": "code",
   "execution_count": 11,
   "id": "1b871ed5-2071-4598-bf3f-b803ae0761a4",
   "metadata": {},
   "outputs": [
    {
     "name": "stdout",
     "output_type": "stream",
     "text": [
      "This is a new cell\n"
     ]
    }
   ],
   "source": [
    "print(\"This is a new cell\")"
   ]
  },
  {
   "cell_type": "code",
   "execution_count": 12,
   "id": "352ac6db-4495-456f-9ce5-b8f453ff739a",
   "metadata": {},
   "outputs": [],
   "source": [
    "protein_time = protein_rmsd_result[1]\n",
    "protein_rmsd_values = protein_rmsd_result[2]"
   ]
  },
  {
   "cell_type": "code",
   "execution_count": 33,
   "id": "7d137f48-b7ac-4127-a6fe-460d3aa502f4",
   "metadata": {},
   "outputs": [
    {
     "data": {
      "image/png": "[encoded data removed]",
      "text/plain": [
       "<Figure size 576x576 with 1 Axes>"
      ]
     },
     "metadata": {
      "needs_background": "light"
     },
     "output_type": "display_data"
    }
   ],
   "source": [
    "fig = plt.figure(figsize=(8, 8))\n",
    "plt.plot(protein_time, protein_rmsd_values, \"-\", color='lightpink')\n",
    "plt.xlabel(\"protein_time (ps)\", fontsize = 14)\n",
    "plt.ylabel(r\"RMSD ($\\AA$)\", fontsize = 14)\n",
    "plt.savefig(\"plots/ligand11_rmsd_protein.jpg\")"
   ]
  },
  {
   "cell_type": "code",
   "execution_count": 14,
   "id": "eaf84844-4791-4e26-92d9-5e442fbda9d0",
   "metadata": {},
   "outputs": [
    {
     "data": {
      "text/plain": [
       "<Figure size 432x288 with 0 Axes>"
      ]
     },
     "metadata": {},
     "output_type": "display_data"
    }
   ],
   "source": [
    "plt.savefig(\"plots/ligand11_rmsd_protein.png\")"
   ]
  },
  {
   "cell_type": "code",
   "execution_count": 15,
   "id": "2195c05c-fade-4191-8a6b-23d6fc895efb",
   "metadata": {},
   "outputs": [],
   "source": [
    "ligand_frames = []\n",
    "with mda.lib.formats.libdcd.DCDFile(data_path+\"MODEL_AF-P00734-F1-model_v2_P_3u8t_362_9.model_Dynamics_1.dcd\") as trajectory_file:\n",
    "    for frame in trajectory_file:\n",
    "        ligand_frames.append(frame)"
   ]
  },
  {
   "cell_type": "code",
   "execution_count": 16,
   "id": "511b0213-4483-4b29-8e85-9c906d664914",
   "metadata": {},
   "outputs": [],
   "source": [
    "ligand_first_frame = ligand_frames[0].xyz\n",
    "universe = mda.Universe(data_path+\"MODEL_AF-P00734-F1-model_v2_P_3u8t_362_9.model_Dynamics_1.prmtop\", data_path+\"MODEL_AF-P00734-F1-model_v2_P_3u8t_362_9.model_Dynamics_1.dcd\")\n",
    "reference_universe = mda.Universe(data_path+\"MODEL_AF-P00734-F1-model_v2_P_3u8t_362_9.model_Dynamics_1.prmtop\", ligand_first_frame)"
   ]
  },
  {
   "cell_type": "code",
   "execution_count": 17,
   "id": "c9076333-bf5d-4893-bc65-06af40bc9ac4",
   "metadata": {},
   "outputs": [],
   "source": [
    "ligand_structure = universe.select_atoms(\"resname MOL\")\n",
    "reference_ligand_structure = reference_universe.select_atoms(\"resname MOL\")"
   ]
  },
  {
   "cell_type": "code",
   "execution_count": 18,
   "id": "2e09e123-9aa6-4f4c-8076-9d320bb0b813",
   "metadata": {},
   "outputs": [
    {
     "data": {
      "text/plain": [
       "<AtomGroup with 52 atoms>"
      ]
     },
     "execution_count": 18,
     "metadata": {},
     "output_type": "execute_result"
    }
   ],
   "source": [
    "ligand_structure"
   ]
  },
  {
   "cell_type": "code",
   "execution_count": 19,
   "id": "b618dcfd-bf38-4b80-b16b-9e3197672b91",
   "metadata": {},
   "outputs": [
    {
     "data": {
      "text/plain": [
       "<AtomGroup with 52 atoms>"
      ]
     },
     "execution_count": 19,
     "metadata": {},
     "output_type": "execute_result"
    }
   ],
   "source": [
    "reference_ligand_structure"
   ]
  },
  {
   "cell_type": "code",
   "execution_count": 20,
   "id": "48994daa-2463-4d3e-b048-5a8c70080079",
   "metadata": {},
   "outputs": [
    {
     "data": {
      "text/plain": [
       "<MDAnalysis.analysis.rms.RMSD at 0x7f4a16d36dc0>"
      ]
     },
     "execution_count": 20,
     "metadata": {},
     "output_type": "execute_result"
    }
   ],
   "source": [
    "rmsd_ligand = mda.analysis.rms.RMSD(ligand_structure, reference_ligand_structure)\n",
    "rmsd_ligand.run()"
   ]
  },
  {
   "cell_type": "code",
   "execution_count": 21,
   "id": "964bf7c7-688a-464c-ae7d-722cd629cad0",
   "metadata": {},
   "outputs": [
    {
     "name": "stdout",
     "output_type": "stream",
     "text": [
      "[[0.00000000e+00 1.00000000e+00 2.00000000e+00 ... 4.99700000e+03\n",
      "  4.99800000e+03 4.99900000e+03]\n",
      " [0.00000000e+00 4.88882123e-05 9.77764246e-05 ... 2.44294397e-01\n",
      "  2.44343285e-01 2.44392173e-01]\n",
      " [9.35154606e-08 3.74972900e-01 7.40409033e-01 ... 1.30451740e+00\n",
      "  1.18304862e+00 1.30052759e+00]]\n"
     ]
    }
   ],
   "source": [
    "ligand_rmsd_result = rmsd_ligand.results.rmsd.T\n",
    "print(ligand_rmsd_result)"
   ]
  },
  {
   "cell_type": "code",
   "execution_count": 22,
   "id": "ef5258ed-8dd1-4a3f-87a4-cfe0fdb0e038",
   "metadata": {},
   "outputs": [],
   "source": [
    "ligand_time = ligand_rmsd_result[1]\n",
    "ligand_rmsd_values = ligand_rmsd_result[2]"
   ]
  },
  {
   "cell_type": "code",
   "execution_count": 24,
   "id": "32ae05ab-42ab-406e-be14-dc672b8895a8",
   "metadata": {},
   "outputs": [
    {
     "data": {
      "image/png": "[encoded data removed]",
      "text/plain": [
       "<Figure size 576x576 with 1 Axes>"
      ]
     },
     "metadata": {
      "needs_background": "light"
     },
     "output_type": "display_data"
    }
   ],
   "source": [
    "fig = plt.figure(figsize=(8, 8))\n",
    "ax = fig.add_subplot(111)\n",
    "ax.plot(ligand_time, ligand_rmsd_values, \"k-\")\n",
    "ax.set_xlabel(\"ligand_time (ps)\", fontsize = 14)\n",
    "ax.set_ylabel(r\"RMSD ($\\AA$)\", fontsize = 14)\n",
    "plt.savefig(\"plots/rmsd_ligand.pdf\")"
   ]
  },
  {
   "cell_type": "code",
   "execution_count": 23,
   "id": "7dbae1b4-8d1c-47b1-91ec-6a998eb9fbc6",
   "metadata": {},
   "outputs": [],
   "source": [
    "mean_rmsd_ligand = np.mean(ligand_rmsd_values)\n",
    "standard_deviation_rmsd_ligand = np.std(ligand_rmsd_values)"
   ]
  },
  {
   "cell_type": "code",
   "execution_count": 25,
   "id": "f29ee246-c6d8-4ce5-a023-8ba4668a2e10",
   "metadata": {},
   "outputs": [
    {
     "name": "stdout",
     "output_type": "stream",
     "text": [
      "Average RMSD of ligand: (1.788 ± 0.517) Å\n"
     ]
    }
   ],
   "source": [
    "print(f\"Average RMSD of ligand: ({mean_rmsd_ligand:.3f} \\u00B1 {standard_deviation_rmsd_ligand:.3f}) \\u212B\")"
   ]
  },
  {
   "cell_type": "markdown",
   "id": "710690d2-3005-4b21-bcfb-f5227cdeffa1",
   "metadata": {},
   "source": [
    "Distance between protein centre of mass and ligand centre of mass"
   ]
  },
  {
   "cell_type": "code",
   "execution_count": 26,
   "id": "b1266143-10a3-4ff8-9dee-1fb607843621",
   "metadata": {},
   "outputs": [],
   "source": [
    "protein_centre_of_mass = protein_structure.center_of_mass()\n",
    "ligand_centre_of_mass = ligand_structure.center_of_mass()"
   ]
  },
  {
   "cell_type": "code",
   "execution_count": 39,
   "id": "01a43a63-c240-497d-bd0d-d39ecc5aaf65",
   "metadata": {},
   "outputs": [
    {
     "data": {
      "text/plain": [
       "array([35.92700918, 50.83779817, 29.58144545])"
      ]
     },
     "execution_count": 39,
     "metadata": {},
     "output_type": "execute_result"
    }
   ],
   "source": [
    "protein_centre_of_mass"
   ]
  },
  {
   "cell_type": "code",
   "execution_count": 27,
   "id": "3cfbc4be-3931-4a6f-8244-c5171a08dfa1",
   "metadata": {},
   "outputs": [],
   "source": [
    "x_1 = protein_centre_of_mass[0]\n",
    "y_1 = protein_centre_of_mass[1]\n",
    "z_1 = protein_centre_of_mass[2]"
   ]
  },
  {
   "cell_type": "code",
   "execution_count": 28,
   "id": "491e1fae-a5e1-4c7b-beed-77d15b7658e8",
   "metadata": {},
   "outputs": [],
   "source": [
    "x_2 = ligand_centre_of_mass[0]\n",
    "y_2 = ligand_centre_of_mass[1]\n",
    "z_2 = ligand_centre_of_mass[2]"
   ]
  },
  {
   "cell_type": "code",
   "execution_count": 29,
   "id": "f49389b4-1165-4634-9c78-88ed6987beac",
   "metadata": {},
   "outputs": [
    {
     "name": "stdout",
     "output_type": "stream",
     "text": [
      "Protein CoM: x: 36.92, y: 52.18, z: 30.30\n",
      "Ligand CoM: x: 39.51, y: 29.91, z: 26.98\n"
     ]
    }
   ],
   "source": [
    "print(f\"Protein CoM: x: {x_1:.2f}, y: {y_1:.2f}, z: {z_1:.2f}\")\n",
    "print(f\"Ligand CoM: x: {x_2:.2f}, y: {y_2:.2f}, z: {z_2:.2f}\")"
   ]
  },
  {
   "cell_type": "code",
   "execution_count": 30,
   "id": "3a8da4ce-c875-401b-b583-5b74257a668f",
   "metadata": {},
   "outputs": [
    {
     "data": {
      "text/plain": [
       "22.66346374180088"
      ]
     },
     "execution_count": 30,
     "metadata": {},
     "output_type": "execute_result"
    }
   ],
   "source": [
    "distance_array = mda.analysis.distances.distance_array(ligand_centre_of_mass, protein_centre_of_mass)\n",
    "distance = distance_array[0][0]\n",
    "distance"
   ]
  },
  {
   "cell_type": "code",
   "execution_count": 31,
   "id": "99e708fa-c442-4bb9-a23a-d77a9f3a89d4",
   "metadata": {},
   "outputs": [
    {
     "name": "stdout",
     "output_type": "stream",
     "text": [
      "Distance between protein CoM and ligand CoM: 22.663 Å\n"
     ]
    }
   ],
   "source": [
    "print(f\"Distance between protein CoM and ligand CoM: {distance:.3f} \\u212B\")"
   ]
  },
  {
   "cell_type": "code",
   "execution_count": null,
   "id": "ba8be99d-6034-45e7-a4fb-ce34c6a5a099",
   "metadata": {},
   "outputs": [],
   "source": []
  }
 ],
 "metadata": {
  "kernelspec": {
   "display_name": "Python 3.9.12 ('base': conda)",
   "language": "python",
   "name": "python3"
  },
  "language_info": {
   "codemirror_mode": {
    "name": "ipython",
    "version": 3
   },
   "file_extension": ".py",
   "mimetype": "text/x-python",
   "name": "python",
   "nbconvert_exporter": "python",
   "pygments_lexer": "ipython3",
   "version": "3.9.12"
  },
  "vscode": {
   "interpreter": {
    "hash": "0adc24031de837c67e57ac4b89cb1ee739cdb5ab6744ab89888cc7ab5d6951e7"
   }
  }
 },
 "nbformat": 4,
 "nbformat_minor": 5
}
