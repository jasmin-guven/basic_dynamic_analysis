{
 "cells": [
  {
   "cell_type": "code",
   "execution_count": 718,
   "id": "b2484eb8-cf6d-4333-b5ac-0bd1a3c2f542",
   "metadata": {
    "scrolled": true,
    "tags": []
   },
   "outputs": [
    {
     "name": "stdout",
     "output_type": "stream",
     "text": [
      "HETATM 4157  N   MOL I   1      18.195 -13.070  21.394  1.00  0.00           N  \n",
      "\n",
      "HETATM 4158  C   MOL I   1      18.145 -11.732  20.781  1.00  0.00           C  \n",
      "\n",
      "HETATM 4159  C1  MOL I   1      17.373 -13.389  22.417  1.00  0.00           C  \n",
      "\n",
      "HETATM 4160  O   MOL I   1      16.495 -12.653  22.846  1.00  0.00           O  \n",
      "\n",
      "HETATM 4161  C2  MOL I   1      16.758 -11.331  20.321  1.00  0.00           C  \n",
      "\n",
      "HETATM 4162  O1  MOL I   1      16.280 -10.225  20.538  1.00  0.00           O  \n",
      "\n",
      "HETATM 4163  C3  MOL I   1      19.105 -11.877  19.589  1.00  0.00           C  \n",
      "\n",
      "HETATM 4164  C4  MOL I   1      17.575 -14.763  23.025  1.00  0.00           C  \n",
      "\n",
      "HETATM 4165  N1  MOL I   1      16.131 -12.319  19.662  1.00  0.00           N  \n",
      "\n",
      "HETATM 4166  C5  MOL I   1      20.072 -12.987  20.008  1.00  0.00           C  \n",
      "\n",
      "HETATM 4167  N2  MOL I   1      16.239 -15.449  23.011  1.00  0.00           N1+\n",
      "\n",
      "HETATM 4168  C6  MOL I   1      18.030 -14.636  24.494  1.00  0.00           C  \n",
      "\n",
      "HETATM 4169  C7  MOL I   1      14.768 -12.100  19.154  1.00  0.00           C  \n",
      "\n",
      "HETATM 4170  C8  MOL I   1      19.197 -13.971  20.796  1.00  0.00           C  \n",
      "\n",
      "HETATM 4171  C9  MOL I   1      19.425 -14.070  24.703  1.00  0.00           C  \n",
      "\n",
      "HETATM 4172  C10 MOL I   1      13.732 -12.159  20.267  1.00  0.00           C  \n",
      "\n",
      "HETATM 4173  C11 MOL I   1      20.499 -14.614  24.032  1.00  0.00           C  \n",
      "\n",
      "HETATM 4174  C12 MOL I   1      13.203 -13.351  20.720  1.00  0.00           C  \n",
      "\n",
      "HETATM 4175  C13 MOL I   1      21.764 -14.107  24.223  1.00  0.00           C  \n",
      "\n",
      "HETATM 4176  C14 MOL I   1      12.267 -13.344  21.731  1.00  0.00           C  \n",
      "\n",
      "HETATM 4177  C15 MOL I   1      21.960 -13.054  25.087  1.00  0.00           C  \n",
      "\n",
      "HETATM 4178  C16 MOL I   1      11.857 -12.157  22.291  1.00  0.00           C  \n",
      "\n",
      "HETATM 4179  C17 MOL I   1      20.890 -12.508  25.759  1.00  0.00           C  \n",
      "\n",
      "HETATM 4180  C18 MOL I   1      12.381 -10.967  21.841  1.00  0.00           C  \n",
      "\n",
      "HETATM 4181  C19 MOL I   1      19.626 -13.015  25.566  1.00  0.00           C  \n",
      "\n",
      "HETATM 4182  C20 MOL I   1      13.317 -10.973  20.832  1.00  0.00           C  \n",
      "\n",
      "HETATM 4183  C21 MOL I   1      13.623 -14.685  20.129  1.00  0.00           C  \n",
      "\n",
      "HETATM 4184  C22 MOL I   1      11.925  -9.663  22.464  1.00  0.00           C  \n",
      "\n",
      "HETATM 4185  H   MOL I   1      18.396 -11.011  21.427  1.00  0.00           H  \n",
      "\n",
      "HETATM 4186  H1  MOL I   1      18.267 -15.269  22.510  1.00  0.00           H  \n",
      "\n",
      "HETATM 4187  H2  MOL I   1      19.596 -11.022  19.422  1.00  0.00           H  \n",
      "\n",
      "HETATM 4188  H3  MOL I   1      18.626 -12.094  18.738  1.00  0.00           H  \n",
      "\n",
      "HETATM 4189  H4  MOL I   1      16.521 -13.099  19.541  1.00  0.00           H  \n",
      "\n",
      "HETATM 4190  H5  MOL I   1      20.805 -12.622  20.581  1.00  0.00           H  \n",
      "\n",
      "HETATM 4191  H6  MOL I   1      20.522 -13.418  19.226  1.00  0.00           H  \n",
      "\n",
      "HETATM 4192  H9  MOL I   1      15.944 -15.619  22.166  1.00  0.00           H  \n",
      "\n",
      "HETATM 4193  H8  MOL I   1      15.598 -14.946  23.418  1.00  0.00           H  \n",
      "\n",
      "HETATM 4194  H7  MOL I   1      16.264 -16.246  23.450  1.00  0.00           H  \n",
      "\n",
      "HETATM 4195  H10 MOL I   1      17.999 -15.546  24.907  1.00  0.00           H  \n",
      "\n",
      "HETATM 4196  H11 MOL I   1      17.404 -13.981  24.918  1.00  0.00           H  \n",
      "\n",
      "HETATM 4197  H12 MOL I   1      14.558 -12.804  18.475  1.00  0.00           H  \n",
      "\n",
      "HETATM 4198  H13 MOL I   1      14.732 -11.188  18.746  1.00  0.00           H  \n",
      "\n",
      "HETATM 4199  H14 MOL I   1      18.770 -14.646  20.193  1.00  0.00           H  \n",
      "\n",
      "HETATM 4200  H15 MOL I   1      19.703 -14.516  21.464  1.00  0.00           H  \n",
      "\n",
      "HETATM 4201  H16 MOL I   1      20.358 -15.379  23.404  1.00  0.00           H  \n",
      "\n",
      "HETATM 4202  H17 MOL I   1      22.540 -14.505  23.734  1.00  0.00           H  \n",
      "\n",
      "HETATM 4203  H18 MOL I   1      11.884 -14.207  22.059  1.00  0.00           H  \n",
      "\n",
      "HETATM 4204  H19 MOL I   1      22.879 -12.686  25.227  1.00  0.00           H  \n",
      "\n",
      "HETATM 4205  H20 MOL I   1      11.178 -12.159  23.025  1.00  0.00           H  \n",
      "\n",
      "HETATM 4206  H21 MOL I   1      21.032 -11.743  26.387  1.00  0.00           H  \n",
      "\n",
      "HETATM 4207  H22 MOL I   1      18.849 -12.616  26.054  1.00  0.00           H  \n",
      "\n",
      "HETATM 4208  H23 MOL I   1      13.699 -10.109  20.506  1.00  0.00           H  \n",
      "\n",
      "HETATM 4209  H24 MOL I   1      13.123 -15.418  20.591  1.00  0.00           H  \n",
      "\n",
      "HETATM 4210  H25 MOL I   1      13.415 -14.702  19.151  1.00  0.00           H  \n",
      "\n",
      "HETATM 4211  H26 MOL I   1      14.606 -14.815  20.255  1.00  0.00           H  \n",
      "\n",
      "HETATM 4212  H27 MOL I   1      12.407  -8.906  22.024  1.00  0.00           H  \n",
      "\n",
      "HETATM 4213  H28 MOL I   1      10.939  -9.554  22.339  1.00  0.00           H  \n",
      "\n",
      "HETATM 4214  H29 MOL I   1      12.130  -9.669  23.443  1.00  0.00           H  \n",
      "\n"
     ]
    }
   ],
   "source": [
    "res_counter = 0\n",
    "with open(\"/home/yifan/Desktop/2ZFF__1__P_Dynamics_2.pdb\") as file:\n",
    "    lines = file.readlines()\n",
    "    for line in lines:\n",
    "        if \"HETATM\" in line and \"MOL\" in line:\n",
    "            print(line)\n",
    "            res_counter += 1"
   ]
  },
  {
   "cell_type": "code",
   "execution_count": 719,
   "id": "1ed891f3-3d0d-4a2c-98de-69f52dba3102",
   "metadata": {},
   "outputs": [
    {
     "name": "stdout",
     "output_type": "stream",
     "text": [
      "The system contains 58 ligand atoms.\n"
     ]
    }
   ],
   "source": [
    "print(f\"The system contains {res_counter} ligand atoms.\")"
   ]
  },
  {
   "cell_type": "code",
   "execution_count": 720,
   "id": "f9a7692d-5f47-41d3-a33f-c8fe67e83546",
   "metadata": {},
   "outputs": [],
   "source": [
    "import numpy as np\n",
    "import MDAnalysis as mda\n",
    "import MDAnalysis.analysis\n",
    "import MDAnalysis.analysis.rms\n",
    "import MDAnalysis.analysis.distances\n",
    "import matplotlib.pyplot as plt"
   ]
  },
  {
   "cell_type": "code",
   "execution_count": 721,
   "id": "d1362657-2bf9-4876-9125-006baea03208",
   "metadata": {},
   "outputs": [],
   "source": [
    "data_path = \"../Desktop/\""
   ]
  },
  {
   "cell_type": "code",
   "execution_count": 722,
   "id": "c82cef03-e2e6-48b7-a3b0-4f99e91b1aec",
   "metadata": {},
   "outputs": [],
   "source": [
    "protein_frames = []\n",
    "with mda.lib.formats.libdcd.DCDFile(data_path+\"2ZFF__1__P_Dynamics_2.dcd\") as trajectory_file:\n",
    "    for frame in trajectory_file:\n",
    "        protein_frames.append(frame)"
   ]
  },
  {
   "cell_type": "code",
   "execution_count": 723,
   "id": "6c8102ac",
   "metadata": {},
   "outputs": [],
   "source": [
    "protein_first_frame = protein_frames[0].xyz\n",
    "universe = mda.Universe(data_path+\"2ZFF__1__P_Dynamics_2.prmtop\", data_path+\"2ZFF__1__P_Dynamics_2.dcd\")\n",
    "reference_universe = mda.Universe(data_path+\"2ZFF__1__P_Dynamics_2.prmtop\", protein_first_frame)"
   ]
  },
  {
   "cell_type": "code",
   "execution_count": 724,
   "id": "4e602896-f8d4-480d-bb4e-33562549ef8b",
   "metadata": {},
   "outputs": [],
   "source": [
    "\n",
    "protein_structure = universe.select_atoms(\"protein\")\n",
    "reference_protein_structure = reference_universe.select_atoms(\"protein\")"
   ]
  },
  {
   "cell_type": "code",
   "execution_count": 725,
   "id": "cd7271a8-c1f4-46e1-b9d1-8bfce0e61c2e",
   "metadata": {},
   "outputs": [
    {
     "data": {
      "text/plain": [
       "<MDAnalysis.analysis.rms.RMSD at 0x7f06c93b4970>"
      ]
     },
     "execution_count": 725,
     "metadata": {},
     "output_type": "execute_result"
    }
   ],
   "source": [
    "# This cell computes the RMSD of the backbone of the protein\n",
    "rmsd_protein = mda.analysis.rms.RMSD(protein_structure, reference_protein_structure, select=\"backbone\")\n",
    "rmsd_protein.run()"
   ]
  },
  {
   "cell_type": "code",
   "execution_count": 726,
   "id": "c83b126e-89ae-414f-a9a0-0b7fe0afc566",
   "metadata": {},
   "outputs": [
    {
     "name": "stdout",
     "output_type": "stream",
     "text": [
      "[[0.00000000e+00 1.00000000e+00 2.00000000e+00 ... 4.99700000e+03\n",
      "  4.99800000e+03 4.99900000e+03]\n",
      " [0.00000000e+00 4.88882123e-05 9.77764246e-05 ... 2.44294397e-01\n",
      "  2.44343285e-01 2.44392173e-01]\n",
      " [8.21505588e-07 5.77019523e-01 6.07999447e-01 ... 2.57731154e+00\n",
      "  2.58858707e+00 2.58564513e+00]]\n"
     ]
    }
   ],
   "source": [
    "protein_rmsd_result = rmsd_protein.results.rmsd.T\n",
    "print(protein_rmsd_result)"
   ]
  },
  {
   "cell_type": "code",
   "execution_count": 727,
   "id": "1b871ed5-2071-4598-bf3f-b803ae0761a4",
   "metadata": {},
   "outputs": [
    {
     "name": "stdout",
     "output_type": "stream",
     "text": [
      "This is a new cell\n"
     ]
    }
   ],
   "source": [
    "print(\"This is a new cell\")"
   ]
  },
  {
   "cell_type": "code",
   "execution_count": 728,
   "id": "352ac6db-4495-456f-9ce5-b8f453ff739a",
   "metadata": {},
   "outputs": [],
   "source": [
    "protein_time = protein_rmsd_result[1]\n",
    "protein_rmsd_values = protein_rmsd_result[2]"
   ]
  },
  {
   "cell_type": "code",
   "execution_count": 729,
   "id": "7d137f48-b7ac-4127-a6fe-460d3aa502f4",
   "metadata": {},
   "outputs": [
    {
     "data": {
      "text/plain": [
       "Text(0, 0.5, 'RMSD ($\\\\AA$)')"
      ]
     },
     "execution_count": 729,
     "metadata": {},
     "output_type": "execute_result"
    },
    {
     "data": {
      "image/png": "[encoded data removed]",
      "text/plain": [
       "<Figure size 576x576 with 1 Axes>"
      ]
     },
     "metadata": {
      "needs_background": "light"
     },
     "output_type": "display_data"
    }
   ],
   "source": [
    "fig = plt.figure(figsize=(8, 8))\n",
    "plt.plot(protein_time, protein_rmsd_values, \"-\", color='lightpink')\n",
    "plt.xlabel(\"protein_time (ps)\", fontsize = 14)\n",
    "plt.ylabel(r\"RMSD ($\\AA$)\", fontsize = 14)\n"
   ]
  },
  {
   "cell_type": "code",
   "execution_count": 730,
   "id": "2195c05c-fade-4191-8a6b-23d6fc895efb",
   "metadata": {},
   "outputs": [],
   "source": [
    "ligand_frames = []\n",
    "with mda.lib.formats.libdcd.DCDFile(data_path+\"2ZFF__1__P_Dynamics_2.dcd\") as trajectory_file:\n",
    "    for frame in trajectory_file:\n",
    "        ligand_frames.append(frame)"
   ]
  },
  {
   "cell_type": "code",
   "execution_count": 731,
   "id": "d1127cd8",
   "metadata": {},
   "outputs": [],
   "source": [
    "ligand_first_frame = ligand_frames[0].xyz\n",
    "universe = mda.Universe(data_path+\"2ZFF__1__P_Dynamics_2.prmtop\", data_path+\"2ZFF__1__P_Dynamics_2.dcd\")\n",
    "reference_universe = mda.Universe(data_path+\"2ZFF__1__P_Dynamics_2.prmtop\", ligand_first_frame)"
   ]
  },
  {
   "cell_type": "code",
   "execution_count": 732,
   "id": "c9076333-bf5d-4893-bc65-06af40bc9ac4",
   "metadata": {},
   "outputs": [],
   "source": [
    "ligand_structure = universe.select_atoms(\"resname MOL\")\n",
    "reference_ligand_structure = reference_universe.select_atoms(\"resname MOL\")"
   ]
  },
  {
   "cell_type": "code",
   "execution_count": 733,
   "id": "2e09e123-9aa6-4f4c-8076-9d320bb0b813",
   "metadata": {},
   "outputs": [
    {
     "data": {
      "text/plain": [
       "<AtomGroup with 58 atoms>"
      ]
     },
     "execution_count": 733,
     "metadata": {},
     "output_type": "execute_result"
    }
   ],
   "source": [
    "ligand_structure"
   ]
  },
  {
   "cell_type": "code",
   "execution_count": 734,
   "id": "b618dcfd-bf38-4b80-b16b-9e3197672b91",
   "metadata": {},
   "outputs": [
    {
     "data": {
      "text/plain": [
       "<AtomGroup with 58 atoms>"
      ]
     },
     "execution_count": 734,
     "metadata": {},
     "output_type": "execute_result"
    }
   ],
   "source": [
    "reference_ligand_structure"
   ]
  },
  {
   "cell_type": "code",
   "execution_count": 735,
   "id": "48994daa-2463-4d3e-b048-5a8c70080079",
   "metadata": {},
   "outputs": [
    {
     "data": {
      "text/plain": [
       "<MDAnalysis.analysis.rms.RMSD at 0x7f06d3ef7520>"
      ]
     },
     "execution_count": 735,
     "metadata": {},
     "output_type": "execute_result"
    }
   ],
   "source": [
    "rmsd_ligand = mda.analysis.rms.RMSD(ligand_structure, reference_ligand_structure)\n",
    "rmsd_ligand.run()"
   ]
  },
  {
   "cell_type": "code",
   "execution_count": 736,
   "id": "964bf7c7-688a-464c-ae7d-722cd629cad0",
   "metadata": {},
   "outputs": [
    {
     "name": "stdout",
     "output_type": "stream",
     "text": [
      "[[0.00000000e+00 1.00000000e+00 2.00000000e+00 ... 4.99700000e+03\n",
      "  4.99800000e+03 4.99900000e+03]\n",
      " [0.00000000e+00 4.88882123e-05 9.77764246e-05 ... 2.44294397e-01\n",
      "  2.44343285e-01 2.44392173e-01]\n",
      " [0.00000000e+00 7.23503949e-01 6.29332898e-01 ... 2.35109899e+00\n",
      "  2.34988402e+00 2.44551526e+00]]\n"
     ]
    }
   ],
   "source": [
    "ligand_rmsd_result = rmsd_ligand.results.rmsd.T\n",
    "print(ligand_rmsd_result)"
   ]
  },
  {
   "cell_type": "code",
   "execution_count": 737,
   "id": "ef5258ed-8dd1-4a3f-87a4-cfe0fdb0e038",
   "metadata": {},
   "outputs": [],
   "source": [
    "ligand_time = ligand_rmsd_result[1]\n",
    "ligand_rmsd_values = ligand_rmsd_result[2]"
   ]
  },
  {
   "cell_type": "code",
   "execution_count": 738,
   "id": "32ae05ab-42ab-406e-be14-dc672b8895a8",
   "metadata": {},
   "outputs": [
    {
     "data": {
      "text/plain": [
       "Text(0, 0.5, 'RMSD ($\\\\AA$)')"
      ]
     },
     "execution_count": 738,
     "metadata": {},
     "output_type": "execute_result"
    },
    {
     "data": {
      "image/png": "[encoded data removed]",
      "text/plain": [
       "<Figure size 576x576 with 1 Axes>"
      ]
     },
     "metadata": {
      "needs_background": "light"
     },
     "output_type": "display_data"
    }
   ],
   "source": [
    "fig = plt.figure(figsize=(8, 8))\n",
    "ax = fig.add_subplot(111)\n",
    "ax.plot(ligand_time, ligand_rmsd_values, \"k-\")\n",
    "ax.set_xlabel(\"ligand_time (ps)\", fontsize = 14)\n",
    "ax.set_ylabel(r\"RMSD ($\\AA$)\", fontsize = 14)\n"
   ]
  },
  {
   "cell_type": "code",
   "execution_count": 739,
   "id": "7dbae1b4-8d1c-47b1-91ec-6a998eb9fbc6",
   "metadata": {},
   "outputs": [],
   "source": [
    "mean_rmsd_ligand = np.mean(ligand_rmsd_values)\n",
    "standard_deviation_rmsd_ligand = np.std(ligand_rmsd_values)"
   ]
  },
  {
   "cell_type": "code",
   "execution_count": 740,
   "id": "f29ee246-c6d8-4ce5-a023-8ba4668a2e10",
   "metadata": {},
   "outputs": [
    {
     "name": "stdout",
     "output_type": "stream",
     "text": [
      "Average RMSD of ligand: (2.652 ± 0.566) Å\n"
     ]
    }
   ],
   "source": [
    "print(f\"Average RMSD of ligand: ({mean_rmsd_ligand:.3f} \\u00B1 {standard_deviation_rmsd_ligand:.3f}) \\u212B\")"
   ]
  },
  {
   "cell_type": "markdown",
   "id": "710690d2-3005-4b21-bcfb-f5227cdeffa1",
   "metadata": {},
   "source": [
    "Distance between protein centre of mass and ligand centre of mass"
   ]
  },
  {
   "cell_type": "code",
   "execution_count": 741,
   "id": "b1266143-10a3-4ff8-9dee-1fb607843621",
   "metadata": {},
   "outputs": [],
   "source": [
    "protein_centre_of_mass = protein_structure.center_of_mass()\n",
    "ligand_centre_of_mass = ligand_structure.center_of_mass()"
   ]
  },
  {
   "cell_type": "code",
   "execution_count": 742,
   "id": "01a43a63-c240-497d-bd0d-d39ecc5aaf65",
   "metadata": {},
   "outputs": [
    {
     "data": {
      "text/plain": [
       "array([35.88739916, 50.76198644, 29.55668796])"
      ]
     },
     "execution_count": 742,
     "metadata": {},
     "output_type": "execute_result"
    }
   ],
   "source": [
    "protein_centre_of_mass"
   ]
  },
  {
   "cell_type": "code",
   "execution_count": 743,
   "id": "3cfbc4be-3931-4a6f-8244-c5171a08dfa1",
   "metadata": {},
   "outputs": [],
   "source": [
    "x_1 = protein_centre_of_mass[0]\n",
    "y_1 = protein_centre_of_mass[1]\n",
    "z_1 = protein_centre_of_mass[2]"
   ]
  },
  {
   "cell_type": "code",
   "execution_count": 744,
   "id": "491e1fae-a5e1-4c7b-beed-77d15b7658e8",
   "metadata": {},
   "outputs": [],
   "source": [
    "x_2 = ligand_centre_of_mass[0]\n",
    "y_2 = ligand_centre_of_mass[1]\n",
    "z_2 = ligand_centre_of_mass[2]"
   ]
  },
  {
   "cell_type": "code",
   "execution_count": 745,
   "id": "f49389b4-1165-4634-9c78-88ed6987beac",
   "metadata": {},
   "outputs": [
    {
     "name": "stdout",
     "output_type": "stream",
     "text": [
      "Protein CoM: x: 35.89, y: 50.76, z: 29.56\n",
      "Ligand CoM: x: 41.11, y: 35.67, z: 30.12\n"
     ]
    }
   ],
   "source": [
    "print(f\"Protein CoM: x: {x_1:.2f}, y: {y_1:.2f}, z: {z_1:.2f}\")\n",
    "print(f\"Ligand CoM: x: {x_2:.2f}, y: {y_2:.2f}, z: {z_2:.2f}\")"
   ]
  },
  {
   "cell_type": "code",
   "execution_count": 746,
   "id": "3a8da4ce-c875-401b-b583-5b74257a668f",
   "metadata": {},
   "outputs": [
    {
     "data": {
      "text/plain": [
       "15.976656847777011"
      ]
     },
     "execution_count": 746,
     "metadata": {},
     "output_type": "execute_result"
    }
   ],
   "source": [
    "distance_array = mda.analysis.distances.distance_array(ligand_centre_of_mass, protein_centre_of_mass)\n",
    "distance = distance_array[0][0]\n",
    "distance"
   ]
  },
  {
   "cell_type": "code",
   "execution_count": 747,
   "id": "99e708fa-c442-4bb9-a23a-d77a9f3a89d4",
   "metadata": {},
   "outputs": [
    {
     "name": "stdout",
     "output_type": "stream",
     "text": [
      "Distance between protein CoM and ligand CoM: 15.977 Å\n"
     ]
    }
   ],
   "source": [
    "print(f\"Distance between protein CoM and ligand CoM: {distance:.3f} \\u212B\")"
   ]
  },
  {
   "cell_type": "code",
   "execution_count": null,
   "id": "ba8be99d-6034-45e7-a4fb-ce34c6a5a099",
   "metadata": {},
   "outputs": [],
   "source": []
  },
  {
   "cell_type": "code",
   "execution_count": null,
   "id": "698f6bf9",
   "metadata": {},
   "outputs": [],
   "source": []
  }
 ],
 "metadata": {
  "kernelspec": {
   "display_name": "Python 3.9.12 ('base': conda)",
   "language": "python",
   "name": "python3"
  },
  "language_info": {
   "codemirror_mode": {
    "name": "ipython",
    "version": 3
   },
   "file_extension": ".py",
   "mimetype": "text/x-python",
   "name": "python",
   "nbconvert_exporter": "python",
   "pygments_lexer": "ipython3",
   "version": "3.9.12"
  },
  "vscode": {
   "interpreter": {
    "hash": "0adc24031de837c67e57ac4b89cb1ee739cdb5ab6744ab89888cc7ab5d6951e7"
   }
  }
 },
 "nbformat": 4,
 "nbformat_minor": 5
}
